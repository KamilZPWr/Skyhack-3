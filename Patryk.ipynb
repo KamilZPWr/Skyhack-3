{
  "nbformat": 4,
  "nbformat_minor": 0,
  "metadata": {
    "colab": {
      "name": "Untitled0.ipynb",
      "provenance": [],
      "authorship_tag": "ABX9TyNqaUKamy3DtBvTCvSyTrVq",
      "include_colab_link": true
    },
    "kernelspec": {
      "name": "python3",
      "display_name": "Python 3"
    }
  },
  "cells": [
    {
      "cell_type": "markdown",
      "metadata": {
        "id": "view-in-github",
        "colab_type": "text"
      },
      "source": [
        "<a href=\"https://colab.research.google.com/github/KamilZPWr/Skyhack-3/blob/main/Patryk.ipynb\" target=\"_parent\"><img src=\"https://colab.research.google.com/assets/colab-badge.svg\" alt=\"Open In Colab\"/></a>"
      ]
    },
    {
      "cell_type": "code",
      "metadata": {
        "id": "C1PT7qOwuT6T",
        "outputId": "d92468d4-868a-48a9-e906-596366eba168",
        "colab": {
          "base_uri": "https://localhost:8080/"
        }
      },
      "source": [
        "from google.colab import drive\n",
        "drive.mount('/content/drive')"
      ],
      "execution_count": 1,
      "outputs": [
        {
          "output_type": "stream",
          "text": [
            "Drive already mounted at /content/drive; to attempt to forcibly remount, call drive.mount(\"/content/drive\", force_remount=True).\n"
          ],
          "name": "stdout"
        }
      ]
    },
    {
      "cell_type": "code",
      "metadata": {
        "id": "jKUXg5NRCQSq"
      },
      "source": [
        "!pip install catalyst"
      ],
      "execution_count": null,
      "outputs": []
    },
    {
      "cell_type": "code",
      "metadata": {
        "id": "PY8CxiGLvFQn"
      },
      "source": [
        "import pandas as pd\n",
        "import numpy as np\n",
        "import torch\n",
        "import torch.nn as nn\n",
        "\n",
        "from PIL import Image\n",
        "from torch.utils.data import Dataset, DataLoader ,random_split\n",
        "from torchvision import datasets, models, transforms\n",
        "\n",
        "from catalyst import dl\n",
        "from catalyst.dl.callbacks import AccuracyCallback, EarlyStoppingCallback\n",
        "from catalyst.utils import metrics"
      ],
      "execution_count": 22,
      "outputs": []
    },
    {
      "cell_type": "code",
      "metadata": {
        "id": "vmYx4H2LVKT5",
        "outputId": "17fc99fb-9c66-4397-d798-79a199638be4",
        "colab": {
          "base_uri": "https://localhost:8080/"
        }
      },
      "source": [
        "ROOT_DIR = '/content/drive/My Drive/Colab Notebooks/'\n",
        "NUM_CLASSES = 38\n",
        "DEVICE = torch.device('cuda' if torch.cuda.is_available() else 'cpu')\n",
        "\n",
        "print(DEVICE)"
      ],
      "execution_count": 4,
      "outputs": [
        {
          "output_type": "stream",
          "text": [
            "cpu\n"
          ],
          "name": "stdout"
        }
      ]
    },
    {
      "cell_type": "code",
      "metadata": {
        "id": "DiftcXIPUmGC"
      },
      "source": [
        "class MultiClassDataset(Dataset):\n",
        "\n",
        "    def __init__(self , csv_file , img_dir , transform=None):\n",
        "        self.df = pd.read_csv(csv_file)\n",
        "        self.img_dir = img_dir\n",
        "        self.transform = transform\n",
        "    \n",
        "    def __getitem__(self,idx):\n",
        "        d = self.df.iloc[idx]\n",
        "        image = Image.open(f'{self.img_dir}/{d.Name}').convert(\"RGB\")\n",
        "        label = torch.tensor(d[1:].tolist() , dtype=torch.float32)\n",
        "    \n",
        "        if self.transform is not None:\n",
        "            image = self.transform(image)\n",
        "        return image, label\n",
        "  \n",
        "    def __len__(self):\n",
        "        return len(self.df)\n"
      ],
      "execution_count": 24,
      "outputs": []
    },
    {
      "cell_type": "code",
      "metadata": {
        "id": "NifklEseVIIx",
        "outputId": "fc54b90f-9467-4476-c0d6-c0993aa152ee",
        "colab": {
          "base_uri": "https://localhost:8080/"
        }
      },
      "source": [
        "batch_size = 16\n",
        "transform = transforms.Compose([\n",
        "    transforms.Resize(256),\n",
        "    transforms.CenterCrop(224),\n",
        "    transforms.ToTensor(),\n",
        "    transforms.Normalize(mean=[0.485, 0.456, 0.406], std=[0.229, 0.224, 0.225]),\n",
        "])\n",
        "dataset = MultiClassDataset(ROOT_DIR + 'data/training_labels.csv' , ROOT_DIR + 'data/training_images' , transform)\n",
        "\n",
        "number_of_validation_samples = int(len(dataset)*0.10) \n",
        "training_set, validation_set  = random_split(dataset , [len(dataset) - number_of_validation_samples, number_of_validation_samples])\n",
        "\n",
        "print(f'Number of samples: Train: {len(training_set)}, Validation: {len(validation_set)}')\n",
        "loaders = {\n",
        "    \"train\":DataLoader(training_set , shuffle=True, batch_size=batch_size),\n",
        "    \"valid\": DataLoader(validation_set , shuffle=True, batch_size=batch_size)\n",
        "    }"
      ],
      "execution_count": 25,
      "outputs": [
        {
          "output_type": "stream",
          "text": [
            "Number of samples: Train: 3733, Validation: 414\n"
          ],
          "name": "stdout"
        }
      ]
    },
    {
      "cell_type": "code",
      "metadata": {
        "id": "NUtOBabIXnza"
      },
      "source": [
        "def set_parameter_requires_grad(model, feature_extracting):\n",
        "    if feature_extracting:\n",
        "        for param in model.parameters():\n",
        "            param.requires_grad = False\n",
        "\n",
        "def get_model(num_classes, feature_extract=True):\n",
        "    model = models.alexnet(pretrained = True)\n",
        "    set_parameter_requires_grad(model, feature_extract)\n",
        "    num_ftrs = model.classifier[6].in_features\n",
        "    model.classifier[6] = nn.Linear(num_ftrs, num_classes)\n",
        "    return model\n",
        "\n",
        "def skyhacks_f1_score(preds, y):\n",
        "    return np.mean([metrics.f1_score(preds[:, i], y[:, i])[0].item() for i in range(y_pred.shape[0])])"
      ],
      "execution_count": 89,
      "outputs": []
    },
    {
      "cell_type": "code",
      "metadata": {
        "id": "NuKxQfWVCOTX"
      },
      "source": [
        "model = get_model(NUM_CLASSES)"
      ],
      "execution_count": 90,
      "outputs": []
    },
    {
      "cell_type": "code",
      "metadata": {
        "id": "HNe_-PHmB_2R"
      },
      "source": [
        "optimizer = torch.optim.Adam(model.parameters())\n",
        "criterion = nn.BCEWithLogitsLoss()\n",
        "callbacks = [\n",
        "    EarlyStoppingCallback(patience=5)\n",
        "]\n",
        "num_epochs = 2\n",
        "\n",
        "class CustomRunner(dl.Runner):\n",
        "    \n",
        "    def predict_batch(self, batch):\n",
        "        # model inference step\n",
        "        return self.model(batch[0].to(self.device).view(batch[0].size(0), -1))\n",
        "    \n",
        "    def _handle_batch(self, batch):\n",
        "        x, y = batch\n",
        "        output = self.model(x)\n",
        "        loss = self.state.criterion(output, y)\n",
        "\n",
        "        preds = torch.sigmoid(output).data > 0.5\n",
        "        preds = preds.to(torch.float32)\n",
        "\n",
        "        f1 = skyhacks_f1_score(preds, y)\n",
        "        self.batch_metrics = {\n",
        "            \"loss\": loss,\n",
        "            \"f1-score\": f1\n",
        "        }\n",
        "        \n",
        "        if self.state.is_train_loader:\n",
        "            loss.backward()\n",
        "            self.state.optimizer.step()\n",
        "            self.state.optimizer.zero_grad()           \n"
      ],
      "execution_count": 91,
      "outputs": []
    },
    {
      "cell_type": "code",
      "metadata": {
        "id": "jauRyODeaLan",
        "outputId": "7f56d601-0124-428c-c0f9-a2ed506a99a7",
        "colab": {
          "base_uri": "https://localhost:8080/"
        }
      },
      "source": [
        "runner = CustomRunner()\n",
        "\n",
        "runner.train(\n",
        "    loaders=loaders,\n",
        "    model=model, \n",
        "    criterion=criterion, \n",
        "    optimizer=optimizer,\n",
        "    callbacks=callbacks,\n",
        "    num_epochs=num_epochs, \n",
        "    logdir=\"./logs\", \n",
        "    verbose=False\n",
        ")"
      ],
      "execution_count": null,
      "outputs": [
        {
          "output_type": "stream",
          "text": [
            "tensor(0.7656, grad_fn=<BinaryCrossEntropyWithLogitsBackward>)\n",
            "0.6185603522126197\n",
            "tensor(0.4647, grad_fn=<BinaryCrossEntropyWithLogitsBackward>)\n",
            "0.8707314683124423\n",
            "tensor(0.3165, grad_fn=<BinaryCrossEntropyWithLogitsBackward>)\n",
            "0.897798577323556\n",
            "tensor(0.2512, grad_fn=<BinaryCrossEntropyWithLogitsBackward>)\n",
            "0.9292372539639473\n",
            "tensor(0.2162, grad_fn=<BinaryCrossEntropyWithLogitsBackward>)\n",
            "0.9095694273710251\n",
            "tensor(0.2887, grad_fn=<BinaryCrossEntropyWithLogitsBackward>)\n",
            "0.9084953479468822\n",
            "tensor(0.2662, grad_fn=<BinaryCrossEntropyWithLogitsBackward>)\n",
            "0.9285161830484867\n",
            "tensor(0.2807, grad_fn=<BinaryCrossEntropyWithLogitsBackward>)\n",
            "0.9404622837901115\n",
            "tensor(0.2157, grad_fn=<BinaryCrossEntropyWithLogitsBackward>)\n",
            "0.9341632425785065\n",
            "tensor(0.2567, grad_fn=<BinaryCrossEntropyWithLogitsBackward>)\n",
            "0.9385812692344189\n",
            "tensor(0.3271, grad_fn=<BinaryCrossEntropyWithLogitsBackward>)\n",
            "0.9266222268342972\n",
            "tensor(0.2071, grad_fn=<BinaryCrossEntropyWithLogitsBackward>)\n",
            "0.9517350755631924\n",
            "tensor(0.3830, grad_fn=<BinaryCrossEntropyWithLogitsBackward>)\n",
            "0.9359899125993252\n"
          ],
          "name": "stdout"
        }
      ]
    },
    {
      "cell_type": "code",
      "metadata": {
        "id": "1Ez6JoHQa0-a"
      },
      "source": [
        ""
      ],
      "execution_count": null,
      "outputs": []
    }
  ]
}