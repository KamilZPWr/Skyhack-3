{
 "cells": [
  {
   "cell_type": "code",
   "execution_count": 1,
   "metadata": {
    "colab": {
     "base_uri": "https://localhost:8080/"
    },
    "id": "C1PT7qOwuT6T",
    "outputId": "349ae415-8a85-470c-c303-1af08b752cd5"
   },
   "outputs": [
    {
     "name": "stdout",
     "output_type": "stream",
     "text": [
      "Drive already mounted at /content/drive; to attempt to forcibly remount, call drive.mount(\"/content/drive\", force_remount=True).\n"
     ]
    }
   ],
   "source": [
    "from google.colab import drive, files\n",
    "drive.mount('/content/drive')"
   ]
  },
  {
   "cell_type": "code",
   "execution_count": 2,
   "metadata": {
    "colab": {
     "base_uri": "https://localhost:8080/"
    },
    "id": "jKUXg5NRCQSq",
    "outputId": "66393915-526f-4a8f-ddb9-5dcc78327b01"
   },
   "outputs": [
    {
     "name": "stdout",
     "output_type": "stream",
     "text": [
      "Requirement already satisfied: catalyst in /usr/local/lib/python3.6/dist-packages (20.11)\n",
      "Requirement already satisfied: tensorboardX in /usr/local/lib/python3.6/dist-packages (from catalyst) (2.1)\n",
      "Requirement already satisfied: ipython in /usr/local/lib/python3.6/dist-packages (from catalyst) (5.5.0)\n",
      "Requirement already satisfied: torch>=1.1.0 in /usr/local/lib/python3.6/dist-packages (from catalyst) (1.7.0+cu101)\n",
      "Requirement already satisfied: plotly>=4.1.0 in /usr/local/lib/python3.6/dist-packages (from catalyst) (4.4.1)\n",
      "Requirement already satisfied: GitPython>=3.1.1 in /usr/local/lib/python3.6/dist-packages (from catalyst) (3.1.11)\n",
      "Requirement already satisfied: tqdm>=4.33.0 in /usr/local/lib/python3.6/dist-packages (from catalyst) (4.41.1)\n",
      "Requirement already satisfied: numpy>=1.16.4 in /usr/local/lib/python3.6/dist-packages (from catalyst) (1.18.5)\n",
      "Requirement already satisfied: scikit-learn>=0.20 in /usr/local/lib/python3.6/dist-packages (from catalyst) (0.22.2.post1)\n",
      "Requirement already satisfied: pandas>=0.22 in /usr/local/lib/python3.6/dist-packages (from catalyst) (1.1.4)\n",
      "Requirement already satisfied: PyYAML in /usr/local/lib/python3.6/dist-packages (from catalyst) (3.13)\n",
      "Requirement already satisfied: deprecation in /usr/local/lib/python3.6/dist-packages (from catalyst) (2.1.0)\n",
      "Requirement already satisfied: tensorboard>=1.14.0 in /usr/local/lib/python3.6/dist-packages (from catalyst) (2.3.0)\n",
      "Requirement already satisfied: packaging in /usr/local/lib/python3.6/dist-packages (from catalyst) (20.4)\n",
      "Requirement already satisfied: matplotlib in /usr/local/lib/python3.6/dist-packages (from catalyst) (3.2.2)\n",
      "Requirement already satisfied: six in /usr/local/lib/python3.6/dist-packages (from tensorboardX->catalyst) (1.15.0)\n",
      "Requirement already satisfied: protobuf>=3.8.0 in /usr/local/lib/python3.6/dist-packages (from tensorboardX->catalyst) (3.12.4)\n",
      "Requirement already satisfied: pygments in /usr/local/lib/python3.6/dist-packages (from ipython->catalyst) (2.6.1)\n",
      "Requirement already satisfied: setuptools>=18.5 in /usr/local/lib/python3.6/dist-packages (from ipython->catalyst) (50.3.2)\n",
      "Requirement already satisfied: decorator in /usr/local/lib/python3.6/dist-packages (from ipython->catalyst) (4.4.2)\n",
      "Requirement already satisfied: pickleshare in /usr/local/lib/python3.6/dist-packages (from ipython->catalyst) (0.7.5)\n",
      "Requirement already satisfied: traitlets>=4.2 in /usr/local/lib/python3.6/dist-packages (from ipython->catalyst) (4.3.3)\n",
      "Requirement already satisfied: pexpect; sys_platform != \"win32\" in /usr/local/lib/python3.6/dist-packages (from ipython->catalyst) (4.8.0)\n",
      "Requirement already satisfied: simplegeneric>0.8 in /usr/local/lib/python3.6/dist-packages (from ipython->catalyst) (0.8.1)\n",
      "Requirement already satisfied: prompt-toolkit<2.0.0,>=1.0.4 in /usr/local/lib/python3.6/dist-packages (from ipython->catalyst) (1.0.18)\n",
      "Requirement already satisfied: typing-extensions in /usr/local/lib/python3.6/dist-packages (from torch>=1.1.0->catalyst) (3.7.4.3)\n",
      "Requirement already satisfied: dataclasses in /usr/local/lib/python3.6/dist-packages (from torch>=1.1.0->catalyst) (0.7)\n",
      "Requirement already satisfied: future in /usr/local/lib/python3.6/dist-packages (from torch>=1.1.0->catalyst) (0.16.0)\n",
      "Requirement already satisfied: retrying>=1.3.3 in /usr/local/lib/python3.6/dist-packages (from plotly>=4.1.0->catalyst) (1.3.3)\n",
      "Requirement already satisfied: gitdb<5,>=4.0.1 in /usr/local/lib/python3.6/dist-packages (from GitPython>=3.1.1->catalyst) (4.0.5)\n",
      "Requirement already satisfied: scipy>=0.17.0 in /usr/local/lib/python3.6/dist-packages (from scikit-learn>=0.20->catalyst) (1.4.1)\n",
      "Requirement already satisfied: joblib>=0.11 in /usr/local/lib/python3.6/dist-packages (from scikit-learn>=0.20->catalyst) (0.17.0)\n",
      "Requirement already satisfied: python-dateutil>=2.7.3 in /usr/local/lib/python3.6/dist-packages (from pandas>=0.22->catalyst) (2.8.1)\n",
      "Requirement already satisfied: pytz>=2017.2 in /usr/local/lib/python3.6/dist-packages (from pandas>=0.22->catalyst) (2018.9)\n",
      "Requirement already satisfied: absl-py>=0.4 in /usr/local/lib/python3.6/dist-packages (from tensorboard>=1.14.0->catalyst) (0.10.0)\n",
      "Requirement already satisfied: tensorboard-plugin-wit>=1.6.0 in /usr/local/lib/python3.6/dist-packages (from tensorboard>=1.14.0->catalyst) (1.7.0)\n",
      "Requirement already satisfied: grpcio>=1.24.3 in /usr/local/lib/python3.6/dist-packages (from tensorboard>=1.14.0->catalyst) (1.33.2)\n",
      "Requirement already satisfied: google-auth-oauthlib<0.5,>=0.4.1 in /usr/local/lib/python3.6/dist-packages (from tensorboard>=1.14.0->catalyst) (0.4.2)\n",
      "Requirement already satisfied: requests<3,>=2.21.0 in /usr/local/lib/python3.6/dist-packages (from tensorboard>=1.14.0->catalyst) (2.23.0)\n",
      "Requirement already satisfied: wheel>=0.26; python_version >= \"3\" in /usr/local/lib/python3.6/dist-packages (from tensorboard>=1.14.0->catalyst) (0.35.1)\n",
      "Requirement already satisfied: google-auth<2,>=1.6.3 in /usr/local/lib/python3.6/dist-packages (from tensorboard>=1.14.0->catalyst) (1.17.2)\n",
      "Requirement already satisfied: werkzeug>=0.11.15 in /usr/local/lib/python3.6/dist-packages (from tensorboard>=1.14.0->catalyst) (1.0.1)\n",
      "Requirement already satisfied: markdown>=2.6.8 in /usr/local/lib/python3.6/dist-packages (from tensorboard>=1.14.0->catalyst) (3.3.3)\n",
      "Requirement already satisfied: pyparsing>=2.0.2 in /usr/local/lib/python3.6/dist-packages (from packaging->catalyst) (2.4.7)\n",
      "Requirement already satisfied: cycler>=0.10 in /usr/local/lib/python3.6/dist-packages (from matplotlib->catalyst) (0.10.0)\n",
      "Requirement already satisfied: kiwisolver>=1.0.1 in /usr/local/lib/python3.6/dist-packages (from matplotlib->catalyst) (1.3.1)\n",
      "Requirement already satisfied: ipython-genutils in /usr/local/lib/python3.6/dist-packages (from traitlets>=4.2->ipython->catalyst) (0.2.0)\n",
      "Requirement already satisfied: ptyprocess>=0.5 in /usr/local/lib/python3.6/dist-packages (from pexpect; sys_platform != \"win32\"->ipython->catalyst) (0.6.0)\n",
      "Requirement already satisfied: wcwidth in /usr/local/lib/python3.6/dist-packages (from prompt-toolkit<2.0.0,>=1.0.4->ipython->catalyst) (0.2.5)\n",
      "Requirement already satisfied: smmap<4,>=3.0.1 in /usr/local/lib/python3.6/dist-packages (from gitdb<5,>=4.0.1->GitPython>=3.1.1->catalyst) (3.0.4)\n",
      "Requirement already satisfied: requests-oauthlib>=0.7.0 in /usr/local/lib/python3.6/dist-packages (from google-auth-oauthlib<0.5,>=0.4.1->tensorboard>=1.14.0->catalyst) (1.3.0)\n",
      "Requirement already satisfied: certifi>=2017.4.17 in /usr/local/lib/python3.6/dist-packages (from requests<3,>=2.21.0->tensorboard>=1.14.0->catalyst) (2020.6.20)\n",
      "Requirement already satisfied: urllib3!=1.25.0,!=1.25.1,<1.26,>=1.21.1 in /usr/local/lib/python3.6/dist-packages (from requests<3,>=2.21.0->tensorboard>=1.14.0->catalyst) (1.24.3)\n",
      "Requirement already satisfied: idna<3,>=2.5 in /usr/local/lib/python3.6/dist-packages (from requests<3,>=2.21.0->tensorboard>=1.14.0->catalyst) (2.10)\n",
      "Requirement already satisfied: chardet<4,>=3.0.2 in /usr/local/lib/python3.6/dist-packages (from requests<3,>=2.21.0->tensorboard>=1.14.0->catalyst) (3.0.4)\n",
      "Requirement already satisfied: pyasn1-modules>=0.2.1 in /usr/local/lib/python3.6/dist-packages (from google-auth<2,>=1.6.3->tensorboard>=1.14.0->catalyst) (0.2.8)\n",
      "Requirement already satisfied: rsa<5,>=3.1.4; python_version >= \"3\" in /usr/local/lib/python3.6/dist-packages (from google-auth<2,>=1.6.3->tensorboard>=1.14.0->catalyst) (4.6)\n",
      "Requirement already satisfied: cachetools<5.0,>=2.0.0 in /usr/local/lib/python3.6/dist-packages (from google-auth<2,>=1.6.3->tensorboard>=1.14.0->catalyst) (4.1.1)\n",
      "Requirement already satisfied: importlib-metadata; python_version < \"3.8\" in /usr/local/lib/python3.6/dist-packages (from markdown>=2.6.8->tensorboard>=1.14.0->catalyst) (2.0.0)\n",
      "Requirement already satisfied: oauthlib>=3.0.0 in /usr/local/lib/python3.6/dist-packages (from requests-oauthlib>=0.7.0->google-auth-oauthlib<0.5,>=0.4.1->tensorboard>=1.14.0->catalyst) (3.1.0)\n",
      "Requirement already satisfied: pyasn1<0.5.0,>=0.4.6 in /usr/local/lib/python3.6/dist-packages (from pyasn1-modules>=0.2.1->google-auth<2,>=1.6.3->tensorboard>=1.14.0->catalyst) (0.4.8)\n",
      "Requirement already satisfied: zipp>=0.5 in /usr/local/lib/python3.6/dist-packages (from importlib-metadata; python_version < \"3.8\"->markdown>=2.6.8->tensorboard>=1.14.0->catalyst) (3.4.0)\n"
     ]
    }
   ],
   "source": [
    "!pip install catalyst"
   ]
  },
  {
   "cell_type": "code",
   "execution_count": 3,
   "metadata": {
    "id": "PY8CxiGLvFQn"
   },
   "outputs": [],
   "source": [
    "import os\n",
    "\n",
    "from pathlib import Path\n",
    "\n",
    "import pandas as pd\n",
    "import numpy as np\n",
    "import torch\n",
    "import torch.nn as nn\n",
    "\n",
    "from PIL import Image\n",
    "from torch.utils.data import Dataset, DataLoader ,random_split\n",
    "from torchvision import datasets, models, transforms\n",
    "\n",
    "from catalyst import dl\n",
    "from catalyst.dl.callbacks import AccuracyCallback, EarlyStoppingCallback\n",
    "from catalyst.utils import metrics"
   ]
  },
  {
   "cell_type": "code",
   "execution_count": 4,
   "metadata": {
    "colab": {
     "base_uri": "https://localhost:8080/"
    },
    "id": "vmYx4H2LVKT5",
    "outputId": "8944249a-05c7-4f84-a864-1e917fa48fb9"
   },
   "outputs": [
    {
     "name": "stdout",
     "output_type": "stream",
     "text": [
      "cuda\n"
     ]
    }
   ],
   "source": [
    "ROOT_DIR = '/content/drive/My Drive/Colab Notebooks/'\n",
    "SUBMISSION_FILE = 'submission.csv'\n",
    "MODEL_PATH = 'model.pkt'\n",
    "NUM_CLASSES = 38\n",
    "DEVICE = torch.device('cuda' if torch.cuda.is_available() else 'cpu')\n",
    "\n",
    "print(DEVICE)"
   ]
  },
  {
   "cell_type": "code",
   "execution_count": 5,
   "metadata": {
    "id": "DiftcXIPUmGC"
   },
   "outputs": [],
   "source": [
    "class MultiClassDataset(Dataset):\n",
    "\n",
    "    def __init__(self , csv_file , img_dir , transform=None):\n",
    "        self.df = pd.read_csv(csv_file)\n",
    "        self.img_dir = img_dir\n",
    "        self.transform = transform\n",
    "    \n",
    "    def __getitem__(self, idx):\n",
    "        d = self.df.iloc[idx]\n",
    "        image = Image.open(f'{self.img_dir}/{d.Name}').convert(\"RGB\")\n",
    "        label = torch.tensor(d[1:].tolist() , dtype=torch.float32)\n",
    "    \n",
    "        if self.transform is not None:\n",
    "            image = self.transform(image)\n",
    "        return image, label\n",
    "  \n",
    "    def __len__(self):\n",
    "        return len(self.df)"
   ]
  },
  {
   "cell_type": "code",
   "execution_count": 6,
   "metadata": {
    "colab": {
     "base_uri": "https://localhost:8080/"
    },
    "id": "NifklEseVIIx",
    "outputId": "5fbe04d8-1d3d-427a-d405-9bc9395f7316"
   },
   "outputs": [
    {
     "name": "stdout",
     "output_type": "stream",
     "text": [
      "Number of samples: Train: 3733, Validation: 414\n"
     ]
    }
   ],
   "source": [
    "batch_size = 32\n",
    "transform = transforms.Compose([\n",
    "    transforms.Resize(256),\n",
    "    transforms.CenterCrop(224),\n",
    "    transforms.ToTensor(),\n",
    "    transforms.Normalize(mean=[0.485, 0.456, 0.406], std=[0.229, 0.224, 0.225])\n",
    "])\n",
    "dataset = MultiClassDataset(ROOT_DIR + 'data/training_labels.csv' , ROOT_DIR + 'data/training_images' , transform)\n",
    "\n",
    "number_of_validation_samples = int(len(dataset)*0.10) \n",
    "training_set, validation_set  = random_split(dataset , [len(dataset) - number_of_validation_samples, number_of_validation_samples])\n",
    "\n",
    "print(f'Number of samples: Train: {len(training_set)}, Validation: {len(validation_set)}')\n",
    "loaders = {\n",
    "    \"train\":DataLoader(training_set , shuffle=True, batch_size=batch_size),\n",
    "    \"valid\": DataLoader(validation_set , shuffle=True, batch_size=batch_size)\n",
    "    }"
   ]
  },
  {
   "cell_type": "code",
   "execution_count": 7,
   "metadata": {
    "id": "NUtOBabIXnza"
   },
   "outputs": [],
   "source": [
    "def set_parameter_requires_grad(model, feature_extracting):\n",
    "    if feature_extracting:\n",
    "        for param in model.parameters():\n",
    "            param.requires_grad = False\n",
    "\n",
    "def get_classification_network(in_features, num_classes):\n",
    "    return nn.Sequential(\n",
    "         nn.Linear(in_features, in_features // 2),\n",
    "         # BatchNorm\n",
    "         nn.ReLU(),\n",
    "         # Dropout(p = 0.5)\n",
    "         nn.Linear(in_features // 2, in_features // 4),\n",
    "         nn.ReLU(),\n",
    "         nn.Linear(in_features // 4, in_features // 8),\n",
    "         nn.ReLU(),\n",
    "         nn.Linear(in_features // 8, num_classes)\n",
    "    )\n",
    "\n",
    "def get_model(num_classes, feature_extract=True):\n",
    "    model = models.resnext101_32x8d(pretrained = True)\n",
    "    set_parameter_requires_grad(model, feature_extract)\n",
    "    num_ftrs = model.fc.in_features\n",
    "    model.fc = get_classification_network(num_ftrs, num_classes)\n",
    "    return model\n",
    "\n",
    "def skyhacks_f1_score(preds, y):\n",
    "    return np.mean([metrics.f1_score(preds[:, i], y[:, i])[0].item() for i in range(preds.shape[0])])"
   ]
  },
  {
   "cell_type": "code",
   "execution_count": 8,
   "metadata": {
    "id": "IWyha4HPeVhF"
   },
   "outputs": [],
   "source": [
    "model = get_model(NUM_CLASSES)"
   ]
  },
  {
   "cell_type": "code",
   "execution_count": 9,
   "metadata": {
    "id": "HNe_-PHmB_2R"
   },
   "outputs": [],
   "source": [
    "optimizer = torch.optim.Adam(model.parameters())\n",
    "criterion = nn.BCEWithLogitsLoss()\n",
    "callbacks = [\n",
    "    EarlyStoppingCallback(patience=5)\n",
    "]\n",
    "num_epochs = 100\n",
    "\n",
    "class CustomRunner(dl.Runner):\n",
    "    \n",
    "    def predict_batch(self, batch):\n",
    "        x, y = batch\n",
    "        return self.model(x.to(self.device))\n",
    "    \n",
    "    def _handle_batch(self, batch):\n",
    "        x, y = batch\n",
    "        output = self.model(x)\n",
    "        loss = self.state.criterion(output, y)\n",
    "\n",
    "        preds = torch.sigmoid(output).data > 0.5\n",
    "        preds = preds.to(torch.float32)\n",
    "\n",
    "        f1 = skyhacks_f1_score(preds, y)\n",
    "        self.batch_metrics = {\n",
    "            \"loss\": loss,\n",
    "            \"f1-score\": f1\n",
    "        }\n",
    "        \n",
    "        if self.state.is_train_loader:\n",
    "            loss.backward()\n",
    "            self.state.optimizer.step()\n",
    "            self.state.optimizer.zero_grad()           \n"
   ]
  },
  {
   "cell_type": "code",
   "execution_count": 10,
   "metadata": {
    "colab": {
     "base_uri": "https://localhost:8080/"
    },
    "id": "jauRyODeaLan",
    "outputId": "214fabd6-a2e3-4cf8-cd57-c5ce0a00ebc6"
   },
   "outputs": [
    {
     "name": "stdout",
     "output_type": "stream",
     "text": [
      "1/100 * Epoch (train): 100% 117/117 [02:54<00:00,  1.49s/it, f1-score=0.941, loss=0.207]\n",
      "1/100 * Epoch (valid): 100% 13/13 [00:19<00:00,  1.53s/it, f1-score=0.949, loss=0.208]\n",
      "[2020-11-14 11:30:23,873] \n",
      "1/100 * Epoch 1 (train): f1-score=0.9400 | loss=0.2505\n",
      "1/100 * Epoch 1 (valid): f1-score=0.9455 | loss=0.2124\n",
      "2/100 * Epoch (train): 100% 117/117 [02:55<00:00,  1.50s/it, f1-score=0.944, loss=0.190]\n",
      "2/100 * Epoch (valid): 100% 13/13 [00:19<00:00,  1.50s/it, f1-score=0.947, loss=0.200]\n",
      "[2020-11-14 11:34:05,818] \n",
      "2/100 * Epoch 2 (train): f1-score=0.9516 | loss=0.1982\n",
      "2/100 * Epoch 2 (valid): f1-score=0.9520 | loss=0.2001\n",
      "3/100 * Epoch (train): 100% 117/117 [02:58<00:00,  1.52s/it, f1-score=0.951, loss=0.185]\n",
      "3/100 * Epoch (valid): 100% 13/13 [00:19<00:00,  1.48s/it, f1-score=0.952, loss=0.203]\n",
      "[2020-11-14 11:37:47,899] \n",
      "3/100 * Epoch 3 (train): f1-score=0.9529 | loss=0.1886\n",
      "3/100 * Epoch 3 (valid): f1-score=0.9551 | loss=0.1920\n",
      "4/100 * Epoch (train): 100% 117/117 [02:56<00:00,  1.51s/it, f1-score=0.953, loss=0.182]\n",
      "4/100 * Epoch (valid): 100% 13/13 [00:19<00:00,  1.48s/it, f1-score=0.950, loss=0.193]\n",
      "[2020-11-14 11:41:30,179] \n",
      "4/100 * Epoch 4 (train): f1-score=0.9554 | loss=0.1801\n",
      "4/100 * Epoch 4 (valid): f1-score=0.9549 | loss=0.1878\n",
      "5/100 * Epoch (train): 100% 117/117 [02:54<00:00,  1.49s/it, f1-score=0.954, loss=0.161]\n",
      "5/100 * Epoch (valid): 100% 13/13 [00:19<00:00,  1.48s/it, f1-score=0.958, loss=0.199]\n",
      "[2020-11-14 11:45:11,447] \n",
      "5/100 * Epoch 5 (train): f1-score=0.9565 | loss=0.1728\n",
      "5/100 * Epoch 5 (valid): f1-score=0.9544 | loss=0.1880\n",
      "6/100 * Epoch (train): 100% 117/117 [02:52<00:00,  1.48s/it, f1-score=0.968, loss=0.150]\n",
      "6/100 * Epoch (valid): 100% 13/13 [00:19<00:00,  1.47s/it, f1-score=0.951, loss=0.197]\n",
      "[2020-11-14 11:48:31,174] \n",
      "6/100 * Epoch 6 (train): f1-score=0.9572 | loss=0.1684\n",
      "6/100 * Epoch 6 (valid): f1-score=0.9562 | loss=0.1858\n",
      "7/100 * Epoch (train): 100% 117/117 [02:54<00:00,  1.49s/it, f1-score=0.964, loss=0.148]\n",
      "7/100 * Epoch (valid): 100% 13/13 [00:19<00:00,  1.48s/it, f1-score=0.953, loss=0.191]\n",
      "[2020-11-14 11:52:10,250] \n",
      "7/100 * Epoch 7 (train): f1-score=0.9580 | loss=0.1644\n",
      "7/100 * Epoch 7 (valid): f1-score=0.9564 | loss=0.1847\n",
      "8/100 * Epoch (train): 100% 117/117 [02:56<00:00,  1.51s/it, f1-score=0.963, loss=0.169]\n",
      "8/100 * Epoch (valid): 100% 13/13 [00:19<00:00,  1.48s/it, f1-score=0.957, loss=0.182]\n",
      "[2020-11-14 11:55:52,187] \n",
      "8/100 * Epoch 8 (train): f1-score=0.9594 | loss=0.1597\n",
      "8/100 * Epoch 8 (valid): f1-score=0.9560 | loss=0.1823\n",
      "9/100 * Epoch (train): 100% 117/117 [02:57<00:00,  1.52s/it, f1-score=0.960, loss=0.150]\n",
      "9/100 * Epoch (valid): 100% 13/13 [00:19<00:00,  1.48s/it, f1-score=0.944, loss=0.217]\n",
      "[2020-11-14 11:59:33,945] \n",
      "9/100 * Epoch 9 (train): f1-score=0.9596 | loss=0.1568\n",
      "9/100 * Epoch 9 (valid): f1-score=0.9554 | loss=0.1845\n",
      "10/100 * Epoch (train): 100% 117/117 [02:59<00:00,  1.54s/it, f1-score=0.948, loss=0.172]\n",
      "10/100 * Epoch (valid): 100% 13/13 [00:20<00:00,  1.54s/it, f1-score=0.958, loss=0.160]\n",
      "[2020-11-14 12:02:59,508] \n",
      "10/100 * Epoch 10 (train): f1-score=0.9607 | loss=0.1527\n",
      "10/100 * Epoch 10 (valid): f1-score=0.9576 | loss=0.1792\n",
      "11/100 * Epoch (train): 100% 117/117 [03:03<00:00,  1.57s/it, f1-score=0.966, loss=0.146]\n",
      "11/100 * Epoch (valid): 100% 13/13 [00:19<00:00,  1.52s/it, f1-score=0.952, loss=0.200]\n",
      "[2020-11-14 12:06:47,099] \n",
      "11/100 * Epoch 11 (train): f1-score=0.9617 | loss=0.1486\n",
      "11/100 * Epoch 11 (valid): f1-score=0.9568 | loss=0.1801\n",
      "12/100 * Epoch (train): 100% 117/117 [02:58<00:00,  1.53s/it, f1-score=0.948, loss=0.177]\n",
      "12/100 * Epoch (valid): 100% 13/13 [00:20<00:00,  1.54s/it, f1-score=0.946, loss=0.201]\n",
      "[2020-11-14 12:10:12,511] \n",
      "12/100 * Epoch 12 (train): f1-score=0.9624 | loss=0.1449\n",
      "12/100 * Epoch 12 (valid): f1-score=0.9556 | loss=0.1789\n",
      "13/100 * Epoch (train): 100% 117/117 [03:01<00:00,  1.55s/it, f1-score=0.962, loss=0.134]\n",
      "13/100 * Epoch (valid): 100% 13/13 [00:19<00:00,  1.53s/it, f1-score=0.941, loss=0.216]\n",
      "[2020-11-14 12:14:00,251] \n",
      "13/100 * Epoch 13 (train): f1-score=0.9635 | loss=0.1415\n",
      "13/100 * Epoch 13 (valid): f1-score=0.9551 | loss=0.1847\n",
      "14/100 * Epoch (train): 100% 117/117 [03:02<00:00,  1.56s/it, f1-score=0.966, loss=0.121]\n",
      "14/100 * Epoch (valid): 100% 13/13 [00:20<00:00,  1.57s/it, f1-score=0.955, loss=0.203]\n",
      "[2020-11-14 12:17:28,898] \n",
      "14/100 * Epoch 14 (train): f1-score=0.9653 | loss=0.1365\n",
      "14/100 * Epoch 14 (valid): f1-score=0.9560 | loss=0.1919\n",
      "15/100 * Epoch (train): 100% 117/117 [03:04<00:00,  1.58s/it, f1-score=0.966, loss=0.145]\n",
      "15/100 * Epoch (valid): 100% 13/13 [00:20<00:00,  1.56s/it, f1-score=0.962, loss=0.162]\n",
      "[2020-11-14 12:20:59,705] \n",
      "15/100 * Epoch 15 (train): f1-score=0.9655 | loss=0.1352\n",
      "15/100 * Epoch 15 (valid): f1-score=0.9553 | loss=0.1845\n",
      "16/100 * Epoch (train): 100% 117/117 [03:01<00:00,  1.55s/it, f1-score=0.970, loss=0.133]\n",
      "16/100 * Epoch (valid): 100% 13/13 [00:20<00:00,  1.55s/it, f1-score=0.955, loss=0.175]\n",
      "[2020-11-14 12:24:26,924] \n",
      "16/100 * Epoch 16 (train): f1-score=0.9656 | loss=0.1313\n",
      "16/100 * Epoch 16 (valid): f1-score=0.9553 | loss=0.1830\n",
      "17/100 * Epoch (train): 100% 117/117 [02:58<00:00,  1.53s/it, f1-score=0.950, loss=0.140]\n",
      "17/100 * Epoch (valid): 100% 13/13 [00:19<00:00,  1.51s/it, f1-score=0.954, loss=0.204]\n",
      "[2020-11-14 12:27:50,967] \n",
      "17/100 * Epoch 17 (train): f1-score=0.9669 | loss=0.1251\n",
      "17/100 * Epoch 17 (valid): f1-score=0.9553 | loss=0.1981\n",
      "Early stop at 17 epoch\n",
      "Top best models:\n",
      "logs/checkpoints/train.12.pth\t0.1789\n"
     ]
    }
   ],
   "source": [
    "runner = CustomRunner()\n",
    "\n",
    "runner.train(\n",
    "    loaders=loaders,\n",
    "    model=model, \n",
    "    criterion=criterion, \n",
    "    optimizer=optimizer,\n",
    "    callbacks=callbacks,\n",
    "    num_epochs=num_epochs, \n",
    "    logdir=\"./logs\", \n",
    "    verbose=True\n",
    ")"
   ]
  },
  {
   "cell_type": "code",
   "execution_count": 11,
   "metadata": {
    "colab": {
     "base_uri": "https://localhost:8080/",
     "height": 17
    },
    "id": "eHqwv_sr1A6_",
    "outputId": "b01cf000-c884-4275-abe6-7df2cb523e9a"
   },
   "outputs": [
    {
     "data": {
      "application/javascript": [
       "\n",
       "    async function download(id, filename, size) {\n",
       "      if (!google.colab.kernel.accessAllowed) {\n",
       "        return;\n",
       "      }\n",
       "      const div = document.createElement('div');\n",
       "      const label = document.createElement('label');\n",
       "      label.textContent = `Downloading \"${filename}\": `;\n",
       "      div.appendChild(label);\n",
       "      const progress = document.createElement('progress');\n",
       "      progress.max = size;\n",
       "      div.appendChild(progress);\n",
       "      document.body.appendChild(div);\n",
       "\n",
       "      const buffers = [];\n",
       "      let downloaded = 0;\n",
       "\n",
       "      const channel = await google.colab.kernel.comms.open(id);\n",
       "      // Send a message to notify the kernel that we're ready.\n",
       "      channel.send({})\n",
       "\n",
       "      for await (const message of channel.messages) {\n",
       "        // Send a message to notify the kernel that we're ready.\n",
       "        channel.send({})\n",
       "        if (message.buffers) {\n",
       "          for (const buffer of message.buffers) {\n",
       "            buffers.push(buffer);\n",
       "            downloaded += buffer.byteLength;\n",
       "            progress.value = downloaded;\n",
       "          }\n",
       "        }\n",
       "      }\n",
       "      const blob = new Blob(buffers, {type: 'application/binary'});\n",
       "      const a = document.createElement('a');\n",
       "      a.href = window.URL.createObjectURL(blob);\n",
       "      a.download = filename;\n",
       "      div.appendChild(a);\n",
       "      a.click();\n",
       "      div.remove();\n",
       "    }\n",
       "  "
      ],
      "text/plain": [
       "<IPython.core.display.Javascript object>"
      ]
     },
     "metadata": {
      "tags": []
     },
     "output_type": "display_data"
    },
    {
     "data": {
      "application/javascript": [
       "download(\"download_886fb0e3-209e-4ec9-9072-5d66a1801106\", \"model.pkt\", 359085623)"
      ],
      "text/plain": [
       "<IPython.core.display.Javascript object>"
      ]
     },
     "metadata": {
      "tags": []
     },
     "output_type": "display_data"
    }
   ],
   "source": [
    "torch.save(runner.model, MODEL_PATH)\n",
    "files.download(MODEL_PATH)"
   ]
  }
 ],
 "metadata": {
  "accelerator": "GPU",
  "colab": {
   "collapsed_sections": [],
   "name": "Copy of Untitled0.ipynb",
   "provenance": []
  },
  "kernelspec": {
   "display_name": "Python 3",
   "language": "python",
   "name": "python3"
  },
  "language_info": {
   "codemirror_mode": {
    "name": "ipython",
    "version": 3
   },
   "file_extension": ".py",
   "mimetype": "text/x-python",
   "name": "python",
   "nbconvert_exporter": "python",
   "pygments_lexer": "ipython3",
   "version": "3.7.4"
  }
 },
 "nbformat": 4,
 "nbformat_minor": 1
}
