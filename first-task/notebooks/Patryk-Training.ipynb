{
 "cells": [
  {
   "cell_type": "markdown",
   "metadata": {
    "colab_type": "text",
    "id": "view-in-github"
   },
   "source": [
    "<a href=\"https://colab.research.google.com/github/KamilZPWr/Skyhack-3/blob/main/Patryk.ipynb\" target=\"_parent\"><img src=\"https://colab.research.google.com/assets/colab-badge.svg\" alt=\"Open In Colab\"/></a>"
   ]
  },
  {
   "cell_type": "code",
   "execution_count": 1,
   "metadata": {
    "colab": {
     "base_uri": "https://localhost:8080/"
    },
    "id": "C1PT7qOwuT6T",
    "outputId": "a9c5f6c4-4239-4784-835c-c098396d4224"
   },
   "outputs": [
    {
     "name": "stdout",
     "output_type": "stream",
     "text": [
      "Mounted at /content/drive\n"
     ]
    }
   ],
   "source": [
    "from google.colab import drive, files\n",
    "drive.mount('/content/drive')"
   ]
  },
  {
   "cell_type": "code",
   "execution_count": null,
   "metadata": {
    "id": "jKUXg5NRCQSq"
   },
   "outputs": [],
   "source": [
    "!pip install catalyst"
   ]
  },
  {
   "cell_type": "code",
   "execution_count": 3,
   "metadata": {
    "id": "PY8CxiGLvFQn"
   },
   "outputs": [],
   "source": [
    "import os\n",
    "\n",
    "from pathlib import Path\n",
    "\n",
    "import pandas as pd\n",
    "import numpy as np\n",
    "import torch\n",
    "import torch.nn as nn\n",
    "\n",
    "from PIL import Image\n",
    "from torch.utils.data import Dataset, DataLoader ,random_split\n",
    "from torchvision import datasets, models, transforms\n",
    "\n",
    "from catalyst import dl\n",
    "from catalyst.dl.callbacks import AccuracyCallback, EarlyStoppingCallback\n",
    "from catalyst.utils import metrics"
   ]
  },
  {
   "cell_type": "code",
   "execution_count": 4,
   "metadata": {
    "colab": {
     "base_uri": "https://localhost:8080/"
    },
    "id": "vmYx4H2LVKT5",
    "outputId": "56c8f4ed-abb7-4d2a-9c26-cfd49ba3de37"
   },
   "outputs": [
    {
     "name": "stdout",
     "output_type": "stream",
     "text": [
      "cuda\n"
     ]
    }
   ],
   "source": [
    "ROOT_DIR = '/content/drive/My Drive/Colab Notebooks/'\n",
    "SUBMISSION_FILE = 'submission.csv'\n",
    "MODEL_PATH = 'model.pkt'\n",
    "NUM_CLASSES = 38\n",
    "DEVICE = torch.device('cuda' if torch.cuda.is_available() else 'cpu')\n",
    "\n",
    "print(DEVICE)"
   ]
  },
  {
   "cell_type": "code",
   "execution_count": 5,
   "metadata": {
    "id": "DiftcXIPUmGC"
   },
   "outputs": [],
   "source": [
    "class MultiClassDataset(Dataset):\n",
    "\n",
    "    def __init__(self , csv_file , img_dir , transform=None):\n",
    "        self.df = pd.read_csv(csv_file)\n",
    "        self.img_dir = img_dir\n",
    "        self.transform = transform\n",
    "    \n",
    "    def __getitem__(self, idx):\n",
    "        d = self.df.iloc[idx]\n",
    "        image = Image.open(f'{self.img_dir}/{d.Name}').convert(\"RGB\")\n",
    "        label = torch.tensor(d[1:].tolist() , dtype=torch.float32)\n",
    "    \n",
    "        if self.transform is not None:\n",
    "            image = self.transform(image)\n",
    "        return image, label\n",
    "  \n",
    "    def __len__(self):\n",
    "        return len(self.df)"
   ]
  },
  {
   "cell_type": "code",
   "execution_count": 6,
   "metadata": {
    "colab": {
     "base_uri": "https://localhost:8080/"
    },
    "id": "NifklEseVIIx",
    "outputId": "02020964-b62f-44d0-8d49-bc3ef5e8f4b2"
   },
   "outputs": [
    {
     "name": "stdout",
     "output_type": "stream",
     "text": [
      "Number of samples: Train: 3733, Validation: 414\n",
      "Number of samples Test: 500\n"
     ]
    }
   ],
   "source": [
    "batch_size = 16\n",
    "transform = transforms.Compose([\n",
    "    transforms.Resize(256),\n",
    "    transforms.CenterCrop(224),\n",
    "    transforms.ToTensor(),\n",
    "    transforms.Normalize(mean=[0.485, 0.456, 0.406], std=[0.229, 0.224, 0.225]),\n",
    "])\n",
    "dataset = MultiClassDataset(ROOT_DIR + 'data/training_labels.csv' , ROOT_DIR + 'data/training_images' , transform)\n",
    "\n",
    "number_of_validation_samples = int(len(dataset)*0.10) \n",
    "training_set, validation_set  = random_split(dataset , [len(dataset) - number_of_validation_samples, number_of_validation_samples])\n",
    "\n",
    "print(f'Number of samples: Train: {len(training_set)}, Validation: {len(validation_set)}')\n",
    "print(f'Number of samples Test: {len(test_set)}')\n",
    "loaders = {\n",
    "    \"train\":DataLoader(training_set , shuffle=True, batch_size=batch_size),\n",
    "    \"valid\": DataLoader(validation_set , shuffle=True, batch_size=batch_size)\n",
    "    }"
   ]
  },
  {
   "cell_type": "code",
   "execution_count": 7,
   "metadata": {
    "id": "NUtOBabIXnza"
   },
   "outputs": [],
   "source": [
    "def set_parameter_requires_grad(model, feature_extracting):\n",
    "    if feature_extracting:\n",
    "        for param in model.parameters():\n",
    "            param.requires_grad = False\n",
    "\n",
    "def get_model(num_classes, feature_extract=True):\n",
    "    model = models.alexnet(pretrained = True)\n",
    "    set_parameter_requires_grad(model, feature_extract)\n",
    "    num_ftrs = model.classifier[6].in_features\n",
    "    model.classifier[6] = nn.Linear(num_ftrs, num_classes)\n",
    "    return model\n",
    "\n",
    "def skyhacks_f1_score(preds, y):\n",
    "    return np.mean([metrics.f1_score(preds[:, i], y[:, i])[0].item() for i in range(preds.shape[0])])"
   ]
  },
  {
   "cell_type": "code",
   "execution_count": 8,
   "metadata": {
    "colab": {
     "base_uri": "https://localhost:8080/",
     "height": 84,
     "referenced_widgets": [
      "45925ea87de644f187f0594f8b4556e4",
      "a7aedd81b7244b7da62edc5146cae60b",
      "0437994142684bb2946abc01308aa381",
      "4a0163a18809431b8e2ef578fc1f8db7",
      "5a60829c696744eeb7bbada098654ef3",
      "4f67fb411ca545b2a757b26940caf7b4",
      "8df26a8bdfb24aaf9175c8549dd1d43f",
      "833c8b0fdbc54ac19f5145eaf2531b51"
     ]
    },
    "id": "NuKxQfWVCOTX",
    "outputId": "b3b55e5f-666c-45ae-9d1e-5da51b90291d"
   },
   "outputs": [
    {
     "name": "stderr",
     "output_type": "stream",
     "text": [
      "Downloading: \"https://download.pytorch.org/models/alexnet-owt-4df8aa71.pth\" to /root/.cache/torch/hub/checkpoints/alexnet-owt-4df8aa71.pth\n"
     ]
    },
    {
     "data": {
      "application/vnd.jupyter.widget-view+json": {
       "model_id": "45925ea87de644f187f0594f8b4556e4",
       "version_major": 2,
       "version_minor": 0
      },
      "text/plain": [
       "HBox(children=(FloatProgress(value=0.0, max=244418560.0), HTML(value='')))"
      ]
     },
     "metadata": {
      "tags": []
     },
     "output_type": "display_data"
    },
    {
     "name": "stdout",
     "output_type": "stream",
     "text": [
      "\n"
     ]
    }
   ],
   "source": [
    "model = get_model(NUM_CLASSES)"
   ]
  },
  {
   "cell_type": "code",
   "execution_count": 9,
   "metadata": {
    "id": "HNe_-PHmB_2R"
   },
   "outputs": [],
   "source": [
    "optimizer = torch.optim.Adam(model.parameters())\n",
    "criterion = nn.BCEWithLogitsLoss()\n",
    "callbacks = [\n",
    "    EarlyStoppingCallback(patience=5)\n",
    "]\n",
    "num_epochs = 100\n",
    "\n",
    "class CustomRunner(dl.Runner):\n",
    "    \n",
    "    def predict_batch(self, batch):\n",
    "        x, y = batch\n",
    "        return self.model(x.to(self.device))\n",
    "    \n",
    "    def _handle_batch(self, batch):\n",
    "        x, y = batch\n",
    "        output = self.model(x)\n",
    "        loss = self.state.criterion(output, y)\n",
    "\n",
    "        preds = torch.sigmoid(output).data > 0.5\n",
    "        preds = preds.to(torch.float32)\n",
    "\n",
    "        f1 = skyhacks_f1_score(preds, y)\n",
    "        self.batch_metrics = {\n",
    "            \"loss\": loss,\n",
    "            \"f1-score\": f1\n",
    "        }\n",
    "        \n",
    "        if self.state.is_train_loader:\n",
    "            loss.backward()\n",
    "            self.state.optimizer.step()\n",
    "            self.state.optimizer.zero_grad()           \n"
   ]
  },
  {
   "cell_type": "code",
   "execution_count": 10,
   "metadata": {
    "colab": {
     "base_uri": "https://localhost:8080/"
    },
    "id": "jauRyODeaLan",
    "outputId": "38e2adb7-7ee8-401f-8cc1-635ca9778813"
   },
   "outputs": [
    {
     "name": "stdout",
     "output_type": "stream",
     "text": [
      "1/100 * Epoch (train): 100% 234/234 [16:32<00:00,  4.24s/it, f1-score=1.000, loss=0.130]\n",
      "1/100 * Epoch (valid): 100% 26/26 [01:50<00:00,  4.25s/it, f1-score=0.964, loss=0.151]\n",
      "[2020-11-14 08:28:24,540] \n",
      "1/100 * Epoch 1 (train): f1-score=0.9359 | loss=0.2263\n",
      "1/100 * Epoch 1 (valid): f1-score=0.9436 | loss=0.1981\n",
      "2/100 * Epoch (train): 100% 234/234 [02:05<00:00,  1.86it/s, f1-score=1.000, loss=0.153]\n",
      "2/100 * Epoch (valid): 100% 26/26 [00:14<00:00,  1.81it/s, f1-score=0.963, loss=0.150]\n",
      "[2020-11-14 08:30:49,938] \n",
      "2/100 * Epoch 2 (train): f1-score=0.9461 | loss=0.1715\n",
      "2/100 * Epoch 2 (valid): f1-score=0.9438 | loss=0.1999\n",
      "3/100 * Epoch (train): 100% 234/234 [02:04<00:00,  1.88it/s, f1-score=0.950, loss=0.143]\n",
      "3/100 * Epoch (valid): 100% 26/26 [00:14<00:00,  1.84it/s, f1-score=0.945, loss=0.268]\n",
      "[2020-11-14 08:33:12,039] \n",
      "3/100 * Epoch 3 (train): f1-score=0.9529 | loss=0.1510\n",
      "3/100 * Epoch 3 (valid): f1-score=0.9414 | loss=0.2100\n",
      "4/100 * Epoch (train): 100% 234/234 [02:04<00:00,  1.88it/s, f1-score=0.900, loss=0.138]\n",
      "4/100 * Epoch (valid): 100% 26/26 [00:14<00:00,  1.81it/s, f1-score=0.987, loss=0.167]\n",
      "[2020-11-14 08:35:34,060] \n",
      "4/100 * Epoch 4 (train): f1-score=0.9554 | loss=0.1379\n",
      "4/100 * Epoch 4 (valid): f1-score=0.9362 | loss=0.2125\n",
      "5/100 * Epoch (train): 100% 234/234 [02:04<00:00,  1.87it/s, f1-score=0.960, loss=0.129]\n",
      "5/100 * Epoch (valid): 100% 26/26 [00:14<00:00,  1.82it/s, f1-score=0.957, loss=0.196]\n",
      "[2020-11-14 08:37:56,590] \n",
      "5/100 * Epoch 5 (train): f1-score=0.9577 | loss=0.1302\n",
      "5/100 * Epoch 5 (valid): f1-score=0.9359 | loss=0.2169\n",
      "6/100 * Epoch (train): 100% 234/234 [02:03<00:00,  1.89it/s, f1-score=0.971, loss=0.124]\n",
      "6/100 * Epoch (valid): 100% 26/26 [00:14<00:00,  1.84it/s, f1-score=0.946, loss=0.228]\n",
      "[2020-11-14 08:40:17,988] \n",
      "6/100 * Epoch 6 (train): f1-score=0.9587 | loss=0.1242\n",
      "6/100 * Epoch 6 (valid): f1-score=0.9387 | loss=0.2234\n",
      "Early stop at 6 epoch\n",
      "Top best models:\n",
      "logs/checkpoints/train.1.pth\t0.1981\n"
     ]
    }
   ],
   "source": [
    "runner = CustomRunner()\n",
    "\n",
    "runner.train(\n",
    "    loaders=loaders,\n",
    "    model=model, \n",
    "    criterion=criterion, \n",
    "    optimizer=optimizer,\n",
    "    callbacks=callbacks,\n",
    "    num_epochs=num_epochs, \n",
    "    logdir=\"./logs\", \n",
    "    verbose=True\n",
    ")"
   ]
  },
  {
   "cell_type": "code",
   "execution_count": 16,
   "metadata": {
    "colab": {
     "base_uri": "https://localhost:8080/",
     "height": 17
    },
    "id": "eHqwv_sr1A6_",
    "outputId": "b7fe8d1b-259f-4f9e-bde8-50490b3d6663"
   },
   "outputs": [
    {
     "data": {
      "application/javascript": [
       "\n",
       "    async function download(id, filename, size) {\n",
       "      if (!google.colab.kernel.accessAllowed) {\n",
       "        return;\n",
       "      }\n",
       "      const div = document.createElement('div');\n",
       "      const label = document.createElement('label');\n",
       "      label.textContent = `Downloading \"${filename}\": `;\n",
       "      div.appendChild(label);\n",
       "      const progress = document.createElement('progress');\n",
       "      progress.max = size;\n",
       "      div.appendChild(progress);\n",
       "      document.body.appendChild(div);\n",
       "\n",
       "      const buffers = [];\n",
       "      let downloaded = 0;\n",
       "\n",
       "      const channel = await google.colab.kernel.comms.open(id);\n",
       "      // Send a message to notify the kernel that we're ready.\n",
       "      channel.send({})\n",
       "\n",
       "      for await (const message of channel.messages) {\n",
       "        // Send a message to notify the kernel that we're ready.\n",
       "        channel.send({})\n",
       "        if (message.buffers) {\n",
       "          for (const buffer of message.buffers) {\n",
       "            buffers.push(buffer);\n",
       "            downloaded += buffer.byteLength;\n",
       "            progress.value = downloaded;\n",
       "          }\n",
       "        }\n",
       "      }\n",
       "      const blob = new Blob(buffers, {type: 'application/binary'});\n",
       "      const a = document.createElement('a');\n",
       "      a.href = window.URL.createObjectURL(blob);\n",
       "      a.download = filename;\n",
       "      div.appendChild(a);\n",
       "      a.click();\n",
       "      div.remove();\n",
       "    }\n",
       "  "
      ],
      "text/plain": [
       "<IPython.core.display.Javascript object>"
      ]
     },
     "metadata": {
      "tags": []
     },
     "output_type": "display_data"
    },
    {
     "data": {
      "application/javascript": [
       "download(\"download_fae20018-da0a-45cb-a2eb-ed0e12301680\", \"model.pkt\", 228648032)"
      ],
      "text/plain": [
       "<IPython.core.display.Javascript object>"
      ]
     },
     "metadata": {
      "tags": []
     },
     "output_type": "display_data"
    }
   ],
   "source": [
    "torch.save(runner.model, MODEL_PATH)\n",
    "files.download(MODEL_PATH)"
   ]
  }
 ],
 "metadata": {
  "accelerator": "GPU",
  "colab": {
   "authorship_tag": "ABX9TyOcpRKB5+npU9UE5L/lUnq/",
   "include_colab_link": true,
   "name": "Untitled0.ipynb",
   "provenance": []
  },
  "kernelspec": {
   "display_name": "Python 3",
   "language": "python",
   "name": "python3"
  },
  "language_info": {
   "codemirror_mode": {
    "name": "ipython",
    "version": 3
   },
   "file_extension": ".py",
   "mimetype": "text/x-python",
   "name": "python",
   "nbconvert_exporter": "python",
   "pygments_lexer": "ipython3",
   "version": "3.7.4"
  },
  "widgets": {
   "application/vnd.jupyter.widget-state+json": {
    "0437994142684bb2946abc01308aa381": {
     "model_module": "@jupyter-widgets/controls",
     "model_name": "FloatProgressModel",
     "state": {
      "_dom_classes": [],
      "_model_module": "@jupyter-widgets/controls",
      "_model_module_version": "1.5.0",
      "_model_name": "FloatProgressModel",
      "_view_count": null,
      "_view_module": "@jupyter-widgets/controls",
      "_view_module_version": "1.5.0",
      "_view_name": "ProgressView",
      "bar_style": "success",
      "description": "100%",
      "description_tooltip": null,
      "layout": "IPY_MODEL_4f67fb411ca545b2a757b26940caf7b4",
      "max": 244418560,
      "min": 0,
      "orientation": "horizontal",
      "style": "IPY_MODEL_5a60829c696744eeb7bbada098654ef3",
      "value": 244418560
     }
    },
    "45925ea87de644f187f0594f8b4556e4": {
     "model_module": "@jupyter-widgets/controls",
     "model_name": "HBoxModel",
     "state": {
      "_dom_classes": [],
      "_model_module": "@jupyter-widgets/controls",
      "_model_module_version": "1.5.0",
      "_model_name": "HBoxModel",
      "_view_count": null,
      "_view_module": "@jupyter-widgets/controls",
      "_view_module_version": "1.5.0",
      "_view_name": "HBoxView",
      "box_style": "",
      "children": [
       "IPY_MODEL_0437994142684bb2946abc01308aa381",
       "IPY_MODEL_4a0163a18809431b8e2ef578fc1f8db7"
      ],
      "layout": "IPY_MODEL_a7aedd81b7244b7da62edc5146cae60b"
     }
    },
    "4a0163a18809431b8e2ef578fc1f8db7": {
     "model_module": "@jupyter-widgets/controls",
     "model_name": "HTMLModel",
     "state": {
      "_dom_classes": [],
      "_model_module": "@jupyter-widgets/controls",
      "_model_module_version": "1.5.0",
      "_model_name": "HTMLModel",
      "_view_count": null,
      "_view_module": "@jupyter-widgets/controls",
      "_view_module_version": "1.5.0",
      "_view_name": "HTMLView",
      "description": "",
      "description_tooltip": null,
      "layout": "IPY_MODEL_833c8b0fdbc54ac19f5145eaf2531b51",
      "placeholder": "​",
      "style": "IPY_MODEL_8df26a8bdfb24aaf9175c8549dd1d43f",
      "value": " 233M/233M [00:16&lt;00:00, 15.2MB/s]"
     }
    },
    "4f67fb411ca545b2a757b26940caf7b4": {
     "model_module": "@jupyter-widgets/base",
     "model_name": "LayoutModel",
     "state": {
      "_model_module": "@jupyter-widgets/base",
      "_model_module_version": "1.2.0",
      "_model_name": "LayoutModel",
      "_view_count": null,
      "_view_module": "@jupyter-widgets/base",
      "_view_module_version": "1.2.0",
      "_view_name": "LayoutView",
      "align_content": null,
      "align_items": null,
      "align_self": null,
      "border": null,
      "bottom": null,
      "display": null,
      "flex": null,
      "flex_flow": null,
      "grid_area": null,
      "grid_auto_columns": null,
      "grid_auto_flow": null,
      "grid_auto_rows": null,
      "grid_column": null,
      "grid_gap": null,
      "grid_row": null,
      "grid_template_areas": null,
      "grid_template_columns": null,
      "grid_template_rows": null,
      "height": null,
      "justify_content": null,
      "justify_items": null,
      "left": null,
      "margin": null,
      "max_height": null,
      "max_width": null,
      "min_height": null,
      "min_width": null,
      "object_fit": null,
      "object_position": null,
      "order": null,
      "overflow": null,
      "overflow_x": null,
      "overflow_y": null,
      "padding": null,
      "right": null,
      "top": null,
      "visibility": null,
      "width": null
     }
    },
    "5a60829c696744eeb7bbada098654ef3": {
     "model_module": "@jupyter-widgets/controls",
     "model_name": "ProgressStyleModel",
     "state": {
      "_model_module": "@jupyter-widgets/controls",
      "_model_module_version": "1.5.0",
      "_model_name": "ProgressStyleModel",
      "_view_count": null,
      "_view_module": "@jupyter-widgets/base",
      "_view_module_version": "1.2.0",
      "_view_name": "StyleView",
      "bar_color": null,
      "description_width": "initial"
     }
    },
    "833c8b0fdbc54ac19f5145eaf2531b51": {
     "model_module": "@jupyter-widgets/base",
     "model_name": "LayoutModel",
     "state": {
      "_model_module": "@jupyter-widgets/base",
      "_model_module_version": "1.2.0",
      "_model_name": "LayoutModel",
      "_view_count": null,
      "_view_module": "@jupyter-widgets/base",
      "_view_module_version": "1.2.0",
      "_view_name": "LayoutView",
      "align_content": null,
      "align_items": null,
      "align_self": null,
      "border": null,
      "bottom": null,
      "display": null,
      "flex": null,
      "flex_flow": null,
      "grid_area": null,
      "grid_auto_columns": null,
      "grid_auto_flow": null,
      "grid_auto_rows": null,
      "grid_column": null,
      "grid_gap": null,
      "grid_row": null,
      "grid_template_areas": null,
      "grid_template_columns": null,
      "grid_template_rows": null,
      "height": null,
      "justify_content": null,
      "justify_items": null,
      "left": null,
      "margin": null,
      "max_height": null,
      "max_width": null,
      "min_height": null,
      "min_width": null,
      "object_fit": null,
      "object_position": null,
      "order": null,
      "overflow": null,
      "overflow_x": null,
      "overflow_y": null,
      "padding": null,
      "right": null,
      "top": null,
      "visibility": null,
      "width": null
     }
    },
    "8df26a8bdfb24aaf9175c8549dd1d43f": {
     "model_module": "@jupyter-widgets/controls",
     "model_name": "DescriptionStyleModel",
     "state": {
      "_model_module": "@jupyter-widgets/controls",
      "_model_module_version": "1.5.0",
      "_model_name": "DescriptionStyleModel",
      "_view_count": null,
      "_view_module": "@jupyter-widgets/base",
      "_view_module_version": "1.2.0",
      "_view_name": "StyleView",
      "description_width": ""
     }
    },
    "a7aedd81b7244b7da62edc5146cae60b": {
     "model_module": "@jupyter-widgets/base",
     "model_name": "LayoutModel",
     "state": {
      "_model_module": "@jupyter-widgets/base",
      "_model_module_version": "1.2.0",
      "_model_name": "LayoutModel",
      "_view_count": null,
      "_view_module": "@jupyter-widgets/base",
      "_view_module_version": "1.2.0",
      "_view_name": "LayoutView",
      "align_content": null,
      "align_items": null,
      "align_self": null,
      "border": null,
      "bottom": null,
      "display": null,
      "flex": null,
      "flex_flow": null,
      "grid_area": null,
      "grid_auto_columns": null,
      "grid_auto_flow": null,
      "grid_auto_rows": null,
      "grid_column": null,
      "grid_gap": null,
      "grid_row": null,
      "grid_template_areas": null,
      "grid_template_columns": null,
      "grid_template_rows": null,
      "height": null,
      "justify_content": null,
      "justify_items": null,
      "left": null,
      "margin": null,
      "max_height": null,
      "max_width": null,
      "min_height": null,
      "min_width": null,
      "object_fit": null,
      "object_position": null,
      "order": null,
      "overflow": null,
      "overflow_x": null,
      "overflow_y": null,
      "padding": null,
      "right": null,
      "top": null,
      "visibility": null,
      "width": null
     }
    }
   }
  }
 },
 "nbformat": 4,
 "nbformat_minor": 1
}
