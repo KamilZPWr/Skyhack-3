{
  "nbformat": 4,
  "nbformat_minor": 0,
  "metadata": {
    "accelerator": "GPU",
    "colab": {
      "name": "Copy of Untitled0.ipynb",
      "provenance": [],
      "collapsed_sections": []
    },
    "kernelspec": {
      "display_name": "Python 3",
      "language": "python",
      "name": "python3"
    },
    "language_info": {
      "codemirror_mode": {
        "name": "ipython",
        "version": 3
      },
      "file_extension": ".py",
      "mimetype": "text/x-python",
      "name": "python",
      "nbconvert_exporter": "python",
      "pygments_lexer": "ipython3",
      "version": "3.7.4"
    }
  },
  "cells": [
    {
      "cell_type": "code",
      "metadata": {
        "id": "C1PT7qOwuT6T",
        "outputId": "9cf522a4-3d27-44e2-9aae-05afb3954094",
        "colab": {
          "base_uri": "https://localhost:8080/"
        }
      },
      "source": [
        "from google.colab import drive, files\n",
        "drive.mount('/content/drive')"
      ],
      "execution_count": 1,
      "outputs": [
        {
          "output_type": "stream",
          "text": [
            "Drive already mounted at /content/drive; to attempt to forcibly remount, call drive.mount(\"/content/drive\", force_remount=True).\n"
          ],
          "name": "stdout"
        }
      ]
    },
    {
      "cell_type": "code",
      "metadata": {
        "id": "jKUXg5NRCQSq",
        "outputId": "e1edb00b-d18e-4a19-af33-63bf57cb6936",
        "colab": {
          "base_uri": "https://localhost:8080/"
        }
      },
      "source": [
        "!pip install catalyst"
      ],
      "execution_count": 2,
      "outputs": [
        {
          "output_type": "stream",
          "text": [
            "Requirement already satisfied: catalyst in /usr/local/lib/python3.6/dist-packages (20.11)\n",
            "Requirement already satisfied: ipython in /usr/local/lib/python3.6/dist-packages (from catalyst) (5.5.0)\n",
            "Requirement already satisfied: scikit-learn>=0.20 in /usr/local/lib/python3.6/dist-packages (from catalyst) (0.22.2.post1)\n",
            "Requirement already satisfied: plotly>=4.1.0 in /usr/local/lib/python3.6/dist-packages (from catalyst) (4.4.1)\n",
            "Requirement already satisfied: deprecation in /usr/local/lib/python3.6/dist-packages (from catalyst) (2.1.0)\n",
            "Requirement already satisfied: numpy>=1.16.4 in /usr/local/lib/python3.6/dist-packages (from catalyst) (1.18.5)\n",
            "Requirement already satisfied: matplotlib in /usr/local/lib/python3.6/dist-packages (from catalyst) (3.2.2)\n",
            "Requirement already satisfied: pandas>=0.22 in /usr/local/lib/python3.6/dist-packages (from catalyst) (1.1.4)\n",
            "Requirement already satisfied: packaging in /usr/local/lib/python3.6/dist-packages (from catalyst) (20.4)\n",
            "Requirement already satisfied: torch>=1.1.0 in /usr/local/lib/python3.6/dist-packages (from catalyst) (1.7.0+cu101)\n",
            "Requirement already satisfied: tqdm>=4.33.0 in /usr/local/lib/python3.6/dist-packages (from catalyst) (4.41.1)\n",
            "Requirement already satisfied: tensorboard>=1.14.0 in /usr/local/lib/python3.6/dist-packages (from catalyst) (2.3.0)\n",
            "Requirement already satisfied: tensorboardX in /usr/local/lib/python3.6/dist-packages (from catalyst) (2.1)\n",
            "Requirement already satisfied: GitPython>=3.1.1 in /usr/local/lib/python3.6/dist-packages (from catalyst) (3.1.11)\n",
            "Requirement already satisfied: PyYAML in /usr/local/lib/python3.6/dist-packages (from catalyst) (3.13)\n",
            "Requirement already satisfied: simplegeneric>0.8 in /usr/local/lib/python3.6/dist-packages (from ipython->catalyst) (0.8.1)\n",
            "Requirement already satisfied: setuptools>=18.5 in /usr/local/lib/python3.6/dist-packages (from ipython->catalyst) (50.3.2)\n",
            "Requirement already satisfied: prompt-toolkit<2.0.0,>=1.0.4 in /usr/local/lib/python3.6/dist-packages (from ipython->catalyst) (1.0.18)\n",
            "Requirement already satisfied: pexpect; sys_platform != \"win32\" in /usr/local/lib/python3.6/dist-packages (from ipython->catalyst) (4.8.0)\n",
            "Requirement already satisfied: decorator in /usr/local/lib/python3.6/dist-packages (from ipython->catalyst) (4.4.2)\n",
            "Requirement already satisfied: pickleshare in /usr/local/lib/python3.6/dist-packages (from ipython->catalyst) (0.7.5)\n",
            "Requirement already satisfied: pygments in /usr/local/lib/python3.6/dist-packages (from ipython->catalyst) (2.6.1)\n",
            "Requirement already satisfied: traitlets>=4.2 in /usr/local/lib/python3.6/dist-packages (from ipython->catalyst) (4.3.3)\n",
            "Requirement already satisfied: joblib>=0.11 in /usr/local/lib/python3.6/dist-packages (from scikit-learn>=0.20->catalyst) (0.17.0)\n",
            "Requirement already satisfied: scipy>=0.17.0 in /usr/local/lib/python3.6/dist-packages (from scikit-learn>=0.20->catalyst) (1.4.1)\n",
            "Requirement already satisfied: retrying>=1.3.3 in /usr/local/lib/python3.6/dist-packages (from plotly>=4.1.0->catalyst) (1.3.3)\n",
            "Requirement already satisfied: six in /usr/local/lib/python3.6/dist-packages (from plotly>=4.1.0->catalyst) (1.15.0)\n",
            "Requirement already satisfied: kiwisolver>=1.0.1 in /usr/local/lib/python3.6/dist-packages (from matplotlib->catalyst) (1.3.1)\n",
            "Requirement already satisfied: pyparsing!=2.0.4,!=2.1.2,!=2.1.6,>=2.0.1 in /usr/local/lib/python3.6/dist-packages (from matplotlib->catalyst) (2.4.7)\n",
            "Requirement already satisfied: cycler>=0.10 in /usr/local/lib/python3.6/dist-packages (from matplotlib->catalyst) (0.10.0)\n",
            "Requirement already satisfied: python-dateutil>=2.1 in /usr/local/lib/python3.6/dist-packages (from matplotlib->catalyst) (2.8.1)\n",
            "Requirement already satisfied: pytz>=2017.2 in /usr/local/lib/python3.6/dist-packages (from pandas>=0.22->catalyst) (2018.9)\n",
            "Requirement already satisfied: dataclasses in /usr/local/lib/python3.6/dist-packages (from torch>=1.1.0->catalyst) (0.7)\n",
            "Requirement already satisfied: future in /usr/local/lib/python3.6/dist-packages (from torch>=1.1.0->catalyst) (0.16.0)\n",
            "Requirement already satisfied: typing-extensions in /usr/local/lib/python3.6/dist-packages (from torch>=1.1.0->catalyst) (3.7.4.3)\n",
            "Requirement already satisfied: werkzeug>=0.11.15 in /usr/local/lib/python3.6/dist-packages (from tensorboard>=1.14.0->catalyst) (1.0.1)\n",
            "Requirement already satisfied: google-auth<2,>=1.6.3 in /usr/local/lib/python3.6/dist-packages (from tensorboard>=1.14.0->catalyst) (1.17.2)\n",
            "Requirement already satisfied: absl-py>=0.4 in /usr/local/lib/python3.6/dist-packages (from tensorboard>=1.14.0->catalyst) (0.10.0)\n",
            "Requirement already satisfied: tensorboard-plugin-wit>=1.6.0 in /usr/local/lib/python3.6/dist-packages (from tensorboard>=1.14.0->catalyst) (1.7.0)\n",
            "Requirement already satisfied: markdown>=2.6.8 in /usr/local/lib/python3.6/dist-packages (from tensorboard>=1.14.0->catalyst) (3.3.3)\n",
            "Requirement already satisfied: wheel>=0.26; python_version >= \"3\" in /usr/local/lib/python3.6/dist-packages (from tensorboard>=1.14.0->catalyst) (0.35.1)\n",
            "Requirement already satisfied: google-auth-oauthlib<0.5,>=0.4.1 in /usr/local/lib/python3.6/dist-packages (from tensorboard>=1.14.0->catalyst) (0.4.2)\n",
            "Requirement already satisfied: protobuf>=3.6.0 in /usr/local/lib/python3.6/dist-packages (from tensorboard>=1.14.0->catalyst) (3.12.4)\n",
            "Requirement already satisfied: requests<3,>=2.21.0 in /usr/local/lib/python3.6/dist-packages (from tensorboard>=1.14.0->catalyst) (2.23.0)\n",
            "Requirement already satisfied: grpcio>=1.24.3 in /usr/local/lib/python3.6/dist-packages (from tensorboard>=1.14.0->catalyst) (1.33.2)\n",
            "Requirement already satisfied: gitdb<5,>=4.0.1 in /usr/local/lib/python3.6/dist-packages (from GitPython>=3.1.1->catalyst) (4.0.5)\n",
            "Requirement already satisfied: wcwidth in /usr/local/lib/python3.6/dist-packages (from prompt-toolkit<2.0.0,>=1.0.4->ipython->catalyst) (0.2.5)\n",
            "Requirement already satisfied: ptyprocess>=0.5 in /usr/local/lib/python3.6/dist-packages (from pexpect; sys_platform != \"win32\"->ipython->catalyst) (0.6.0)\n",
            "Requirement already satisfied: ipython-genutils in /usr/local/lib/python3.6/dist-packages (from traitlets>=4.2->ipython->catalyst) (0.2.0)\n",
            "Requirement already satisfied: cachetools<5.0,>=2.0.0 in /usr/local/lib/python3.6/dist-packages (from google-auth<2,>=1.6.3->tensorboard>=1.14.0->catalyst) (4.1.1)\n",
            "Requirement already satisfied: rsa<5,>=3.1.4; python_version >= \"3\" in /usr/local/lib/python3.6/dist-packages (from google-auth<2,>=1.6.3->tensorboard>=1.14.0->catalyst) (4.6)\n",
            "Requirement already satisfied: pyasn1-modules>=0.2.1 in /usr/local/lib/python3.6/dist-packages (from google-auth<2,>=1.6.3->tensorboard>=1.14.0->catalyst) (0.2.8)\n",
            "Requirement already satisfied: importlib-metadata; python_version < \"3.8\" in /usr/local/lib/python3.6/dist-packages (from markdown>=2.6.8->tensorboard>=1.14.0->catalyst) (2.0.0)\n",
            "Requirement already satisfied: requests-oauthlib>=0.7.0 in /usr/local/lib/python3.6/dist-packages (from google-auth-oauthlib<0.5,>=0.4.1->tensorboard>=1.14.0->catalyst) (1.3.0)\n",
            "Requirement already satisfied: chardet<4,>=3.0.2 in /usr/local/lib/python3.6/dist-packages (from requests<3,>=2.21.0->tensorboard>=1.14.0->catalyst) (3.0.4)\n",
            "Requirement already satisfied: idna<3,>=2.5 in /usr/local/lib/python3.6/dist-packages (from requests<3,>=2.21.0->tensorboard>=1.14.0->catalyst) (2.10)\n",
            "Requirement already satisfied: urllib3!=1.25.0,!=1.25.1,<1.26,>=1.21.1 in /usr/local/lib/python3.6/dist-packages (from requests<3,>=2.21.0->tensorboard>=1.14.0->catalyst) (1.24.3)\n",
            "Requirement already satisfied: certifi>=2017.4.17 in /usr/local/lib/python3.6/dist-packages (from requests<3,>=2.21.0->tensorboard>=1.14.0->catalyst) (2020.6.20)\n",
            "Requirement already satisfied: smmap<4,>=3.0.1 in /usr/local/lib/python3.6/dist-packages (from gitdb<5,>=4.0.1->GitPython>=3.1.1->catalyst) (3.0.4)\n",
            "Requirement already satisfied: pyasn1>=0.1.3 in /usr/local/lib/python3.6/dist-packages (from rsa<5,>=3.1.4; python_version >= \"3\"->google-auth<2,>=1.6.3->tensorboard>=1.14.0->catalyst) (0.4.8)\n",
            "Requirement already satisfied: zipp>=0.5 in /usr/local/lib/python3.6/dist-packages (from importlib-metadata; python_version < \"3.8\"->markdown>=2.6.8->tensorboard>=1.14.0->catalyst) (3.4.0)\n",
            "Requirement already satisfied: oauthlib>=3.0.0 in /usr/local/lib/python3.6/dist-packages (from requests-oauthlib>=0.7.0->google-auth-oauthlib<0.5,>=0.4.1->tensorboard>=1.14.0->catalyst) (3.1.0)\n"
          ],
          "name": "stdout"
        }
      ]
    },
    {
      "cell_type": "code",
      "metadata": {
        "id": "PY8CxiGLvFQn"
      },
      "source": [
        "import os\n",
        "\n",
        "from pathlib import Path\n",
        "\n",
        "import pandas as pd\n",
        "import numpy as np\n",
        "import torch\n",
        "import torch.nn as nn\n",
        "\n",
        "from PIL import Image\n",
        "from sklearn.metrics import f1_score\n",
        "from torch.utils.data import Dataset, DataLoader ,random_split\n",
        "from torchvision import datasets, models, transforms\n",
        "\n",
        "from catalyst import dl\n",
        "from catalyst.dl.callbacks import AccuracyCallback, EarlyStoppingCallback"
      ],
      "execution_count": 3,
      "outputs": []
    },
    {
      "cell_type": "code",
      "metadata": {
        "id": "vmYx4H2LVKT5",
        "outputId": "8bd495dd-b899-43d8-e125-bdf790163131",
        "colab": {
          "base_uri": "https://localhost:8080/"
        }
      },
      "source": [
        "ROOT_DIR = '/content/drive/My Drive/Colab Notebooks/'\n",
        "SUBMISSION_FILE = 'submission.csv'\n",
        "MODEL_PATH = 'model.pkt'\n",
        "NUM_CLASSES = 38\n",
        "DEVICE = torch.device('cuda' if torch.cuda.is_available() else 'cpu')\n",
        "\n",
        "print(DEVICE)"
      ],
      "execution_count": 4,
      "outputs": [
        {
          "output_type": "stream",
          "text": [
            "cuda\n"
          ],
          "name": "stdout"
        }
      ]
    },
    {
      "cell_type": "code",
      "metadata": {
        "id": "DiftcXIPUmGC"
      },
      "source": [
        "class MultiClassDataset(Dataset):\n",
        "\n",
        "    def __init__(self , csv_file , img_dir , transform=None):\n",
        "        self.df = pd.read_csv(csv_file)\n",
        "        self.img_dir = img_dir\n",
        "        self.transform = transform\n",
        "    \n",
        "    def __getitem__(self, idx):\n",
        "        d = self.df.iloc[idx]\n",
        "        image = Image.open(f'{self.img_dir}/{d.Name}').convert(\"RGB\")\n",
        "        label = torch.tensor(d[1:].tolist() , dtype=torch.float32)\n",
        "    \n",
        "        if self.transform is not None:\n",
        "            image = self.transform(image)\n",
        "        return image, label\n",
        "  \n",
        "    def __len__(self):\n",
        "        return len(self.df)"
      ],
      "execution_count": 5,
      "outputs": []
    },
    {
      "cell_type": "code",
      "metadata": {
        "id": "NifklEseVIIx",
        "outputId": "10976fed-949c-4294-8572-f78cdae36721",
        "colab": {
          "base_uri": "https://localhost:8080/"
        }
      },
      "source": [
        "batch_size = 32\n",
        "transform = transforms.Compose([\n",
        "    transforms.Resize(256),\n",
        "    transforms.CenterCrop(224),\n",
        "    transforms.ToTensor(),\n",
        "    transforms.Normalize(mean=[0.485, 0.456, 0.406], std=[0.229, 0.224, 0.225])\n",
        "])\n",
        "dataset = MultiClassDataset(ROOT_DIR + 'data/training_labels.csv' , ROOT_DIR + 'data/training_images' , transform)\n",
        "\n",
        "number_of_validation_samples = int(len(dataset)*0.10) \n",
        "training_set, validation_set  = random_split(dataset , [len(dataset) - number_of_validation_samples, number_of_validation_samples])\n",
        "\n",
        "print(f'Number of samples: Train: {len(training_set)}, Validation: {len(validation_set)}')\n",
        "loaders = {\n",
        "    \"train\":DataLoader(training_set , shuffle=True, batch_size=batch_size),\n",
        "    \"valid\": DataLoader(validation_set , shuffle=True, batch_size=batch_size)\n",
        "    }"
      ],
      "execution_count": 6,
      "outputs": [
        {
          "output_type": "stream",
          "text": [
            "Number of samples: Train: 3371, Validation: 374\n"
          ],
          "name": "stdout"
        }
      ]
    },
    {
      "cell_type": "code",
      "metadata": {
        "id": "NUtOBabIXnza"
      },
      "source": [
        "def set_parameter_requires_grad(model, feature_extracting):\n",
        "    if feature_extracting:\n",
        "        for param in model.parameters():\n",
        "            param.requires_grad = False\n",
        "\n",
        "def get_classification_network(in_features, num_classes):\n",
        "    return nn.Sequential(\n",
        "         nn.Linear(in_features, in_features // 2),\n",
        "         # BatchNorm\n",
        "         nn.ReLU(),\n",
        "         # Dropout(p = 0.5)\n",
        "         nn.Linear(in_features // 2, in_features // 4),\n",
        "         nn.ReLU(),\n",
        "         nn.Linear(in_features // 4, in_features // 8),\n",
        "         nn.ReLU(),\n",
        "         nn.Linear(in_features // 8, num_classes)\n",
        "    )\n",
        "\n",
        "def get_model(num_classes, feature_extract=True):\n",
        "    model = models.resnext101_32x8d(pretrained = True)\n",
        "    set_parameter_requires_grad(model, feature_extract)\n",
        "    num_ftrs = model.fc.in_features\n",
        "    model.fc = get_classification_network(num_ftrs, num_classes)\n",
        "    return model\n",
        "\n",
        "def skyhacks_f1_score(preds, y):\n",
        "    return f1_score(y, preds, average = 'macro')"
      ],
      "execution_count": 7,
      "outputs": []
    },
    {
      "cell_type": "code",
      "metadata": {
        "id": "IWyha4HPeVhF"
      },
      "source": [
        "model = get_model(NUM_CLASSES)"
      ],
      "execution_count": 8,
      "outputs": []
    },
    {
      "cell_type": "code",
      "metadata": {
        "id": "HNe_-PHmB_2R"
      },
      "source": [
        "optimizer = torch.optim.Adam(model.parameters())\n",
        "criterion = nn.BCEWithLogitsLoss()\n",
        "callbacks = [\n",
        "    EarlyStoppingCallback(patience=5)\n",
        "]\n",
        "num_epochs = 100\n",
        "\n",
        "class CustomRunner(dl.Runner):\n",
        "    \n",
        "    def predict_batch(self, batch):\n",
        "        x, y = batch\n",
        "        return self.model(x.to(self.device))\n",
        "    \n",
        "    def _handle_batch(self, batch):\n",
        "        x, y = batch\n",
        "        output = self.model(x)\n",
        "        loss = self.state.criterion(output, y)\n",
        "\n",
        "        preds = torch.sigmoid(output).data > 0.5\n",
        "        preds = preds.to(torch.float32)\n",
        "\n",
        "        f1 = skyhacks_f1_score(preds.cpu().numpy(), y.cpu().numpy())\n",
        "        self.batch_metrics = {\n",
        "            \"loss\": loss,\n",
        "            \"f1-score\": f1\n",
        "        }\n",
        "        \n",
        "        if self.state.is_train_loader:\n",
        "            loss.backward()\n",
        "            self.state.optimizer.step()\n",
        "            self.state.optimizer.zero_grad()           \n"
      ],
      "execution_count": 9,
      "outputs": []
    },
    {
      "cell_type": "code",
      "metadata": {
        "id": "jauRyODeaLan",
        "outputId": "4f0d32e2-c156-4c72-e144-59edc33c8113",
        "colab": {
          "base_uri": "https://localhost:8080/"
        }
      },
      "source": [
        "runner = CustomRunner()\n",
        "\n",
        "runner.train(\n",
        "    loaders=loaders,\n",
        "    model=model, \n",
        "    criterion=criterion, \n",
        "    optimizer=optimizer,\n",
        "    callbacks=callbacks,\n",
        "    num_epochs=num_epochs, \n",
        "    logdir=\"./logs\", \n",
        "    verbose=True\n",
        ")"
      ],
      "execution_count": 10,
      "outputs": [
        {
          "output_type": "stream",
          "text": [
            "1/100 * Epoch (train):   1% 1/106 [00:01<02:39,  1.52s/it, f1-score=0.082, loss=0.692]"
          ],
          "name": "stdout"
        },
        {
          "output_type": "stream",
          "text": [
            "/usr/local/lib/python3.6/dist-packages/sklearn/metrics/_classification.py:1515: UndefinedMetricWarning:\n",
            "\n",
            "F-score is ill-defined and being set to 0.0 in labels with no true nor predicted samples. Use `zero_division` parameter to control this behavior.\n",
            "\n"
          ],
          "name": "stderr"
        },
        {
          "output_type": "stream",
          "text": [
            "1/100 * Epoch (train): 100% 106/106 [02:35<00:00,  1.47s/it, f1-score=0.104, loss=0.227]\n",
            "1/100 * Epoch (valid): 100% 12/12 [00:17<00:00,  1.46s/it, f1-score=0.130, loss=0.202]\n",
            "[2020-11-14 14:07:41,880] \n",
            "1/100 * Epoch 1 (train): f1-score=0.0634 | loss=0.2607\n",
            "1/100 * Epoch 1 (valid): f1-score=0.1331 | loss=0.2148\n",
            "2/100 * Epoch (train): 100% 106/106 [02:37<00:00,  1.48s/it, f1-score=0.126, loss=0.210]\n",
            "2/100 * Epoch (valid): 100% 12/12 [00:17<00:00,  1.43s/it, f1-score=0.167, loss=0.216]\n",
            "[2020-11-14 14:11:00,652] \n",
            "2/100 * Epoch 2 (train): f1-score=0.1546 | loss=0.2037\n",
            "2/100 * Epoch 2 (valid): f1-score=0.2047 | loss=0.2021\n",
            "3/100 * Epoch (train): 100% 106/106 [02:31<00:00,  1.43s/it, f1-score=0.172, loss=0.176]\n",
            "3/100 * Epoch (valid): 100% 12/12 [00:16<00:00,  1.37s/it, f1-score=0.160, loss=0.219]\n",
            "[2020-11-14 14:14:14,480] \n",
            "3/100 * Epoch 3 (train): f1-score=0.1952 | loss=0.1934\n",
            "3/100 * Epoch 3 (valid): f1-score=0.1776 | loss=0.1974\n",
            "4/100 * Epoch (train): 100% 106/106 [02:30<00:00,  1.42s/it, f1-score=0.226, loss=0.171]\n",
            "4/100 * Epoch (valid): 100% 12/12 [00:16<00:00,  1.38s/it, f1-score=0.226, loss=0.232]\n",
            "[2020-11-14 14:17:26,986] \n",
            "4/100 * Epoch 4 (train): f1-score=0.2348 | loss=0.1842\n",
            "4/100 * Epoch 4 (valid): f1-score=0.2533 | loss=0.1863\n",
            "5/100 * Epoch (train): 100% 106/106 [02:29<00:00,  1.41s/it, f1-score=0.213, loss=0.157]\n",
            "5/100 * Epoch (valid): 100% 12/12 [00:16<00:00,  1.37s/it, f1-score=0.252, loss=0.144]\n",
            "[2020-11-14 14:20:39,052] \n",
            "5/100 * Epoch 5 (train): f1-score=0.2771 | loss=0.1753\n",
            "5/100 * Epoch 5 (valid): f1-score=0.2514 | loss=0.1895\n",
            "6/100 * Epoch (train): 100% 106/106 [02:30<00:00,  1.42s/it, f1-score=0.243, loss=0.211]\n",
            "6/100 * Epoch (valid): 100% 12/12 [00:16<00:00,  1.36s/it, f1-score=0.306, loss=0.154]\n",
            "[2020-11-14 14:23:31,310] \n",
            "6/100 * Epoch 6 (train): f1-score=0.2798 | loss=0.1741\n",
            "6/100 * Epoch 6 (valid): f1-score=0.2823 | loss=0.1918\n",
            "7/100 * Epoch (train): 100% 106/106 [02:27<00:00,  1.39s/it, f1-score=0.175, loss=0.177]\n",
            "7/100 * Epoch (valid): 100% 12/12 [00:16<00:00,  1.38s/it, f1-score=0.162, loss=0.157]\n",
            "[2020-11-14 14:26:24,906] \n",
            "7/100 * Epoch 7 (train): f1-score=0.3043 | loss=0.1693\n",
            "7/100 * Epoch 7 (valid): f1-score=0.2568 | loss=0.1879\n",
            "8/100 * Epoch (train): 100% 106/106 [02:26<00:00,  1.38s/it, f1-score=0.185, loss=0.153]\n",
            "8/100 * Epoch (valid): 100% 12/12 [00:16<00:00,  1.37s/it, f1-score=0.126, loss=0.254]\n",
            "[2020-11-14 14:29:14,232] \n",
            "8/100 * Epoch 8 (train): f1-score=0.3195 | loss=0.1641\n",
            "8/100 * Epoch 8 (valid): f1-score=0.2855 | loss=0.1850\n",
            "9/100 * Epoch (train): 100% 106/106 [02:26<00:00,  1.38s/it, f1-score=0.168, loss=0.200]\n",
            "9/100 * Epoch (valid): 100% 12/12 [00:16<00:00,  1.36s/it, f1-score=0.336, loss=0.172]\n",
            "[2020-11-14 14:32:22,363] \n",
            "9/100 * Epoch 9 (train): f1-score=0.3308 | loss=0.1608\n",
            "9/100 * Epoch 9 (valid): f1-score=0.2761 | loss=0.1838\n",
            "10/100 * Epoch (train): 100% 106/106 [02:29<00:00,  1.41s/it, f1-score=0.214, loss=0.150]\n",
            "10/100 * Epoch (valid): 100% 12/12 [00:16<00:00,  1.36s/it, f1-score=0.205, loss=0.170]\n",
            "[2020-11-14 14:35:32,106] \n",
            "10/100 * Epoch 10 (train): f1-score=0.3296 | loss=0.1588\n",
            "10/100 * Epoch 10 (valid): f1-score=0.2898 | loss=0.1830\n",
            "11/100 * Epoch (train): 100% 106/106 [02:29<00:00,  1.41s/it, f1-score=0.247, loss=0.169]\n",
            "11/100 * Epoch (valid): 100% 12/12 [00:16<00:00,  1.36s/it, f1-score=0.371, loss=0.164]\n",
            "[2020-11-14 14:38:44,041] \n",
            "11/100 * Epoch 11 (train): f1-score=0.3466 | loss=0.1543\n",
            "11/100 * Epoch 11 (valid): f1-score=0.3160 | loss=0.1827\n",
            "12/100 * Epoch (train): 100% 106/106 [02:30<00:00,  1.42s/it, f1-score=0.310, loss=0.153]\n",
            "12/100 * Epoch (valid): 100% 12/12 [00:16<00:00,  1.39s/it, f1-score=0.340, loss=0.154]\n",
            "[2020-11-14 14:41:56,610] \n",
            "12/100 * Epoch 12 (train): f1-score=0.3680 | loss=0.1498\n",
            "12/100 * Epoch 12 (valid): f1-score=0.3167 | loss=0.1866\n",
            "13/100 * Epoch (train): 100% 106/106 [02:28<00:00,  1.40s/it, f1-score=0.171, loss=0.215]\n",
            "13/100 * Epoch (valid): 100% 12/12 [00:16<00:00,  1.36s/it, f1-score=0.224, loss=0.192]\n",
            "[2020-11-14 14:44:47,483] \n",
            "13/100 * Epoch 13 (train): f1-score=0.3753 | loss=0.1474\n",
            "13/100 * Epoch 13 (valid): f1-score=0.3091 | loss=0.1817\n",
            "14/100 * Epoch (train): 100% 106/106 [02:29<00:00,  1.41s/it, f1-score=0.304, loss=0.148]\n",
            "14/100 * Epoch (valid): 100% 12/12 [00:16<00:00,  1.37s/it, f1-score=0.242, loss=0.203]\n",
            "[2020-11-14 14:47:59,659] \n",
            "14/100 * Epoch 14 (train): f1-score=0.3893 | loss=0.1441\n",
            "14/100 * Epoch 14 (valid): f1-score=0.3127 | loss=0.1830\n",
            "15/100 * Epoch (train): 100% 106/106 [02:32<00:00,  1.43s/it, f1-score=0.228, loss=0.150]\n",
            "15/100 * Epoch (valid): 100% 12/12 [00:16<00:00,  1.40s/it, f1-score=0.324, loss=0.181]\n",
            "[2020-11-14 14:50:54,698] \n",
            "15/100 * Epoch 15 (train): f1-score=0.3999 | loss=0.1406\n",
            "15/100 * Epoch 15 (valid): f1-score=0.3258 | loss=0.1888\n",
            "16/100 * Epoch (train): 100% 106/106 [02:34<00:00,  1.45s/it, f1-score=0.328, loss=0.136]\n",
            "16/100 * Epoch (valid): 100% 12/12 [00:17<00:00,  1.42s/it, f1-score=0.218, loss=0.177]\n",
            "[2020-11-14 14:53:52,454] \n",
            "16/100 * Epoch 16 (train): f1-score=0.4143 | loss=0.1345\n",
            "16/100 * Epoch 16 (valid): f1-score=0.3314 | loss=0.1876\n",
            "17/100 * Epoch (train): 100% 106/106 [02:34<00:00,  1.46s/it, f1-score=0.276, loss=0.131]\n",
            "17/100 * Epoch (valid): 100% 12/12 [00:17<00:00,  1.43s/it, f1-score=0.437, loss=0.178]\n",
            "[2020-11-14 14:56:50,164] \n",
            "17/100 * Epoch 17 (train): f1-score=0.4250 | loss=0.1318\n",
            "17/100 * Epoch 17 (valid): f1-score=0.3163 | loss=0.1900\n",
            "18/100 * Epoch (train): 100% 106/106 [02:34<00:00,  1.46s/it, f1-score=0.286, loss=0.132]\n",
            "18/100 * Epoch (valid): 100% 12/12 [00:16<00:00,  1.41s/it, f1-score=0.357, loss=0.241]\n",
            "[2020-11-14 14:59:47,265] \n",
            "18/100 * Epoch 18 (train): f1-score=0.4379 | loss=0.1284\n",
            "18/100 * Epoch 18 (valid): f1-score=0.3271 | loss=0.1960\n",
            "Early stop at 18 epoch\n",
            "Top best models:\n",
            "logs/checkpoints/train.13.pth\t0.1817\n"
          ],
          "name": "stdout"
        }
      ]
    },
    {
      "cell_type": "code",
      "metadata": {
        "id": "eHqwv_sr1A6_",
        "outputId": "66ceba40-83b5-430d-eb8f-787d93abf912",
        "colab": {
          "base_uri": "https://localhost:8080/",
          "height": 17
        }
      },
      "source": [
        "torch.save(runner.model, MODEL_PATH)\n",
        "files.download(MODEL_PATH)"
      ],
      "execution_count": 11,
      "outputs": [
        {
          "output_type": "display_data",
          "data": {
            "application/javascript": [
              "\n",
              "    async function download(id, filename, size) {\n",
              "      if (!google.colab.kernel.accessAllowed) {\n",
              "        return;\n",
              "      }\n",
              "      const div = document.createElement('div');\n",
              "      const label = document.createElement('label');\n",
              "      label.textContent = `Downloading \"${filename}\": `;\n",
              "      div.appendChild(label);\n",
              "      const progress = document.createElement('progress');\n",
              "      progress.max = size;\n",
              "      div.appendChild(progress);\n",
              "      document.body.appendChild(div);\n",
              "\n",
              "      const buffers = [];\n",
              "      let downloaded = 0;\n",
              "\n",
              "      const channel = await google.colab.kernel.comms.open(id);\n",
              "      // Send a message to notify the kernel that we're ready.\n",
              "      channel.send({})\n",
              "\n",
              "      for await (const message of channel.messages) {\n",
              "        // Send a message to notify the kernel that we're ready.\n",
              "        channel.send({})\n",
              "        if (message.buffers) {\n",
              "          for (const buffer of message.buffers) {\n",
              "            buffers.push(buffer);\n",
              "            downloaded += buffer.byteLength;\n",
              "            progress.value = downloaded;\n",
              "          }\n",
              "        }\n",
              "      }\n",
              "      const blob = new Blob(buffers, {type: 'application/binary'});\n",
              "      const a = document.createElement('a');\n",
              "      a.href = window.URL.createObjectURL(blob);\n",
              "      a.download = filename;\n",
              "      div.appendChild(a);\n",
              "      a.click();\n",
              "      div.remove();\n",
              "    }\n",
              "  "
            ],
            "text/plain": [
              "<IPython.core.display.Javascript object>"
            ]
          },
          "metadata": {
            "tags": []
          }
        },
        {
          "output_type": "display_data",
          "data": {
            "application/javascript": [
              "download(\"download_4f5fff0e-4050-419c-ae1c-d67e3e7e1e83\", \"model.pkt\", 359085320)"
            ],
            "text/plain": [
              "<IPython.core.display.Javascript object>"
            ]
          },
          "metadata": {
            "tags": []
          }
        }
      ]
    }
  ]
}