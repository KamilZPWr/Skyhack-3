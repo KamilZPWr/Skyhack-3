{
 "cells": [
  {
   "cell_type": "code",
   "execution_count": 1,
   "metadata": {},
   "outputs": [],
   "source": [
    "import os\n",
    "import pickle\n",
    "\n",
    "from pathlib import Path\n",
    "\n",
    "import pandas as pd\n",
    "import numpy as np\n",
    "import torch\n",
    "import torch.nn as nn\n",
    "\n",
    "from PIL import Image\n",
    "from sklearn.metrics import f1_score\n",
    "from torch.utils.data import Dataset, DataLoader\n",
    "from torchvision import datasets, models, transforms"
   ]
  },
  {
   "cell_type": "code",
   "execution_count": 2,
   "metadata": {},
   "outputs": [
    {
     "name": "stdout",
     "output_type": "stream",
     "text": [
      "cpu\n"
     ]
    },
    {
     "name": "stderr",
     "output_type": "stream",
     "text": [
      "/home/pwielopolski/anaconda3/envs/datascience/lib/python3.7/site-packages/torch/cuda/__init__.py:52: UserWarning: CUDA initialization: Found no NVIDIA driver on your system. Please check that you have an NVIDIA GPU and installed a driver from http://www.nvidia.com/Download/index.aspx (Triggered internally at  /pytorch/c10/cuda/CUDAFunctions.cpp:100.)\n",
      "  return torch._C._cuda_getDeviceCount() > 0\n"
     ]
    }
   ],
   "source": [
    "ROOT_DIR = '../'\n",
    "MODEL_PATH = ROOT_DIR + 'models/Patryk-ResNeXt-optimization-model.pkt'\n",
    "VALIDATION_LABELS_PATH = ROOT_DIR + 'data/validation_labels.csv'\n",
    "VALIDATION_DATA_PATH = ROOT_DIR + 'data/validation_images'\n",
    "OPTIMAL_THRESHOLD_PATH = ROOT_DIR + 'models/optimal_thresholds.npy'\n",
    "\n",
    "DEVICE = torch.device('cuda' if torch.cuda.is_available() else 'cpu')\n",
    "\n",
    "print(DEVICE)"
   ]
  },
  {
   "cell_type": "code",
   "execution_count": 3,
   "metadata": {},
   "outputs": [],
   "source": [
    "def OFO(y_pred, y_true):\n",
    "    length = y_pred.shape[1]\n",
    "    a = np.ones(length)\n",
    "    b = 2 * np.ones(length)\n",
    "    tau = a / b\n",
    "    \n",
    "    for i in range(y_pred.shape[0]):\n",
    "        row_true = y_true[i]\n",
    "        row_pred = y_pred[i]\n",
    "\n",
    "        y_pred_threshold = (row_pred > tau).astype(int)\n",
    "        a += np.logical_and(y_pred_threshold, row_true).astype(int)\n",
    "        b += y_pred_threshold + row_true\n",
    "        tau = a / b\n",
    "    return tau\n",
    "\n",
    "\n",
    "def skyhacks_f1_score(preds, y):\n",
    "    return f1_score(y, preds, average = 'macro')"
   ]
  },
  {
   "cell_type": "code",
   "execution_count": 4,
   "metadata": {},
   "outputs": [],
   "source": [
    "class MultiClassDataset(Dataset):\n",
    "\n",
    "    def __init__(self , csv_file , img_dir , transform=None):\n",
    "        self.df = pd.read_csv(csv_file)\n",
    "        self.img_dir = img_dir\n",
    "        self.transform = transform\n",
    "    \n",
    "    def __getitem__(self, idx):\n",
    "        d = self.df.iloc[idx]\n",
    "        image = Image.open(f'{self.img_dir}/{d.Name}').convert(\"RGB\")\n",
    "        label = torch.tensor(d[1:].tolist() , dtype=torch.float32)\n",
    "    \n",
    "        if self.transform is not None:\n",
    "            image = self.transform(image)\n",
    "        return image, label\n",
    "  \n",
    "    def __len__(self):\n",
    "        return len(self.df)"
   ]
  },
  {
   "cell_type": "code",
   "execution_count": 5,
   "metadata": {},
   "outputs": [],
   "source": [
    "model = torch.load(MODEL_PATH, map_location=DEVICE)"
   ]
  },
  {
   "cell_type": "code",
   "execution_count": 6,
   "metadata": {},
   "outputs": [],
   "source": [
    "batch_size = 16\n",
    "transform = transforms.Compose([\n",
    "    transforms.Resize(256),\n",
    "    transforms.CenterCrop(224),\n",
    "    transforms.ToTensor(),\n",
    "    transforms.Normalize(mean=[0.485, 0.456, 0.406], std=[0.229, 0.224, 0.225]),\n",
    "])\n",
    "\n",
    "validation_set = MultiClassDataset(VALIDATION_LABELS_PATH, VALIDATION_DATA_PATH, transform)\n",
    "validation_loader = DataLoader(validation_set, shuffle=False, batch_size=batch_size)"
   ]
  },
  {
   "cell_type": "code",
   "execution_count": 7,
   "metadata": {},
   "outputs": [],
   "source": [
    "results = []\n",
    "\n",
    "for batch in validation_loader:\n",
    "    x, y = batch\n",
    "    res = model(x.to(DEVICE))\n",
    "    res = torch.sigmoid(res).to(torch.float32).cpu().detach().numpy()\n",
    "    # res = (torch.sigmoid(res) > 0.5).to(torch.float32).cpu().numpy()\n",
    "    results.append(res)"
   ]
  },
  {
   "cell_type": "code",
   "execution_count": 8,
   "metadata": {},
   "outputs": [],
   "source": [
    "df_val_true = pd.read_csv(VALIDATION_LABELS_PATH)\n",
    "df_val_pred = pd.DataFrame(np.vstack(results), columns = df_val_true.columns[1:])\n",
    "df_val_pred['Name'] = df_val_true['Name'].copy()\n",
    "df_val_pred = df_val_pred[df_val_true.columns]"
   ]
  },
  {
   "cell_type": "code",
   "execution_count": 9,
   "metadata": {},
   "outputs": [],
   "source": [
    "y_pred = df_val_pred.iloc[:, 1:].values\n",
    "y_true = df_val_true.iloc[:, 1:].values"
   ]
  },
  {
   "cell_type": "code",
   "execution_count": 10,
   "metadata": {},
   "outputs": [],
   "source": [
    "optimal_thresholds = OFO(y_pred, y_true)"
   ]
  },
  {
   "cell_type": "code",
   "execution_count": 11,
   "metadata": {},
   "outputs": [
    {
     "data": {
      "text/plain": [
       "array([0.125     , 0.33333333, 0.17073171, 0.40366972, 0.17647059,\n",
       "       0.36363636, 0.4       , 0.30952381, 0.34065934, 0.17460317,\n",
       "       0.11111111, 0.26857143, 0.32038835, 0.30882353, 0.34558824,\n",
       "       0.26666667, 0.3       , 0.3030303 , 0.22222222, 0.22857143,\n",
       "       0.20588235, 0.20689655, 0.2       , 0.08      , 0.125     ,\n",
       "       0.3880597 , 0.29275362, 0.35      , 0.20689655, 0.29299363,\n",
       "       0.29090909, 0.46153846, 0.27272727, 0.2       , 0.0952381 ,\n",
       "       0.42553191, 0.5       , 0.32824427])"
      ]
     },
     "execution_count": 11,
     "metadata": {},
     "output_type": "execute_result"
    }
   ],
   "source": [
    "optimal_thresholds"
   ]
  },
  {
   "cell_type": "code",
   "execution_count": 12,
   "metadata": {},
   "outputs": [],
   "source": [
    "with open(OPTIMAL_THRESHOLD_PATH, 'wb') as f:\n",
    "    np.save(f, optimal_thresholds)"
   ]
  },
  {
   "cell_type": "code",
   "execution_count": 13,
   "metadata": {},
   "outputs": [
    {
     "data": {
      "text/plain": [
       "0.47770421427646675"
      ]
     },
     "execution_count": 13,
     "metadata": {},
     "output_type": "execute_result"
    }
   ],
   "source": [
    "skyhacks_f1_score((y_pred > 0.5).astype(int), y_true)"
   ]
  },
  {
   "cell_type": "code",
   "execution_count": 14,
   "metadata": {},
   "outputs": [
    {
     "data": {
      "text/plain": [
       "0.5340164202729162"
      ]
     },
     "execution_count": 14,
     "metadata": {},
     "output_type": "execute_result"
    }
   ],
   "source": [
    "skyhacks_f1_score((y_pred > optimal_thresholds).astype(int), y_true)"
   ]
  }
 ],
 "metadata": {
  "kernelspec": {
   "display_name": "Python 3",
   "language": "python",
   "name": "python3"
  },
  "language_info": {
   "codemirror_mode": {
    "name": "ipython",
    "version": 3
   },
   "file_extension": ".py",
   "mimetype": "text/x-python",
   "name": "python",
   "nbconvert_exporter": "python",
   "pygments_lexer": "ipython3",
   "version": "3.7.4"
  }
 },
 "nbformat": 4,
 "nbformat_minor": 2
}
