{
 "cells": [
  {
   "cell_type": "code",
   "execution_count": 1,
   "metadata": {},
   "outputs": [],
   "source": [
    "import os\n",
    "\n",
    "from pathlib import Path\n",
    "\n",
    "import pandas as pd\n",
    "import numpy as np\n",
    "import torch\n",
    "import torch.nn as nn\n",
    "\n",
    "from PIL import Image\n",
    "from torch.utils.data import Dataset, DataLoader\n",
    "from torchvision import datasets, models, transforms"
   ]
  },
  {
   "cell_type": "code",
   "execution_count": 2,
   "metadata": {},
   "outputs": [
    {
     "name": "stdout",
     "output_type": "stream",
     "text": [
      "cpu\n"
     ]
    },
    {
     "name": "stderr",
     "output_type": "stream",
     "text": [
      "/home/pwielopolski/anaconda3/envs/datascience/lib/python3.7/site-packages/torch/cuda/__init__.py:52: UserWarning: CUDA initialization: Found no NVIDIA driver on your system. Please check that you have an NVIDIA GPU and installed a driver from http://www.nvidia.com/Download/index.aspx (Triggered internally at  /pytorch/c10/cuda/CUDAFunctions.cpp:100.)\n",
      "  return torch._C._cuda_getDeviceCount() > 0\n"
     ]
    }
   ],
   "source": [
    "# name = 'Patryk-ResNeXt-long-train'\n",
    "name = 'Patryk-morning-model'\n",
    "\n",
    "ROOT_DIR = '../'\n",
    "MODEL_PATH = ROOT_DIR + f'models/{name}.pkt'\n",
    "TRAINING_LABELS_PATH = ROOT_DIR + 'data/training_labels.csv'\n",
    "TEST_DATA_PATH = ROOT_DIR + 'data/skyhacks_hackathon_testset'\n",
    "SUBMISSION_FILE = ROOT_DIR + f'results/submission-{name}.csv'\n",
    "OPTIMAL_THRESHOLD_PATH = ROOT_DIR + f'models/optimal_thresholds-{name}.npy'\n",
    "\n",
    "DEVICE = torch.device('cuda' if torch.cuda.is_available() else 'cpu')\n",
    "\n",
    "print(DEVICE)"
   ]
  },
  {
   "cell_type": "code",
   "execution_count": 3,
   "metadata": {},
   "outputs": [],
   "source": [
    "class TestDataset(Dataset):\n",
    "\n",
    "    def __init__(self, img_dir, transform):\n",
    "        self.transform = transform\n",
    "        self.images = [os.path.join(img_dir, fname) for fname in os.listdir(img_dir)]\n",
    "\n",
    "    def __getitem__(self, idx):\n",
    "        image = Image.open(self.images[idx]).convert(\"RGB\")\n",
    "\n",
    "        if self.transform is not None:\n",
    "            image = self.transform(image)\n",
    "        return image\n",
    "  \n",
    "    def __len__(self):\n",
    "        return len(self.images)"
   ]
  },
  {
   "cell_type": "code",
   "execution_count": 4,
   "metadata": {},
   "outputs": [],
   "source": [
    "model = torch.load(MODEL_PATH, map_location=DEVICE)"
   ]
  },
  {
   "cell_type": "code",
   "execution_count": 5,
   "metadata": {},
   "outputs": [],
   "source": [
    "batch_size = 16\n",
    "transform = transforms.Compose([\n",
    "    transforms.Resize(256),\n",
    "    transforms.CenterCrop(224),\n",
    "    transforms.ToTensor(),\n",
    "    transforms.Normalize(mean=[0.485, 0.456, 0.406], std=[0.229, 0.224, 0.225]),\n",
    "])\n",
    "\n",
    "test_set = TestDataset(TEST_DATA_PATH, transform)\n",
    "test_loader = DataLoader(test_set, shuffle=False, batch_size=batch_size)"
   ]
  },
  {
   "cell_type": "code",
   "execution_count": 6,
   "metadata": {},
   "outputs": [],
   "source": [
    "results = []\n",
    "\n",
    "for batch in test_loader:\n",
    "    res = model(batch.to(DEVICE))\n",
    "    res = torch.sigmoid(res).to(torch.float32).cpu().detach().numpy()\n",
    "    results.append(res)"
   ]
  },
  {
   "cell_type": "code",
   "execution_count": 7,
   "metadata": {},
   "outputs": [],
   "source": [
    "with open(OPTIMAL_THRESHOLD_PATH, 'rb') as f:\n",
    "    optimal_thresholds = np.load(f)"
   ]
  },
  {
   "cell_type": "code",
   "execution_count": 8,
   "metadata": {},
   "outputs": [
    {
     "data": {
      "text/plain": [
       "array([0.17647059, 0.4       , 0.15151515, 0.39911308, 0.30769231,\n",
       "       0.4       , 0.40869565, 0.26923077, 0.35      , 0.11290323,\n",
       "       0.025     , 0.27322404, 0.30107527, 0.27692308, 0.33922261,\n",
       "       0.27777778, 0.35294118, 0.32432432, 0.4       , 0.31034483,\n",
       "       0.36      , 0.23333333, 0.19230769, 0.08695652, 0.11111111,\n",
       "       0.39086294, 0.28744939, 0.37142857, 0.21052632, 0.29801325,\n",
       "       0.34146341, 0.46153846, 0.55      , 0.26923077, 0.08860759,\n",
       "       0.42093023, 0.5       , 0.32352941])"
      ]
     },
     "execution_count": 8,
     "metadata": {},
     "output_type": "execute_result"
    }
   ],
   "source": [
    "optimal_thresholds"
   ]
  },
  {
   "cell_type": "code",
   "execution_count": 9,
   "metadata": {},
   "outputs": [],
   "source": [
    "df = pd.read_csv(TRAINING_LABELS_PATH)\n",
    "df_test = pd.DataFrame(np.vstack(results), columns = df.columns[1:])\n",
    "df_test = (df_test > optimal_thresholds).astype(int) # Threshold optimization\n",
    "names = pd.DataFrame({'Name': [Path(el).parts[-1] for el in test_loader.dataset.images]})\n",
    "\n",
    "submission = pd.concat([names, df_test], axis = 1)\n",
    "submission.to_csv(SUBMISSION_FILE, index = False)"
   ]
  }
 ],
 "metadata": {
  "kernelspec": {
   "display_name": "Python 3",
   "language": "python",
   "name": "python3"
  },
  "language_info": {
   "codemirror_mode": {
    "name": "ipython",
    "version": 3
   },
   "file_extension": ".py",
   "mimetype": "text/x-python",
   "name": "python",
   "nbconvert_exporter": "python",
   "pygments_lexer": "ipython3",
   "version": "3.7.4"
  }
 },
 "nbformat": 4,
 "nbformat_minor": 2
}
