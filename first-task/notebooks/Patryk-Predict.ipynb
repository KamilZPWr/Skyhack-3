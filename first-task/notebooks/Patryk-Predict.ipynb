{
 "cells": [
  {
   "cell_type": "code",
   "execution_count": 3,
   "metadata": {},
   "outputs": [],
   "source": [
    "import os\n",
    "\n",
    "from pathlib import Path\n",
    "\n",
    "import pandas as pd\n",
    "import numpy as np\n",
    "import torch\n",
    "import torch.nn as nn\n",
    "\n",
    "from PIL import Image\n",
    "from torch.utils.data import Dataset, DataLoader\n",
    "from torchvision import datasets, models, transforms"
   ]
  },
  {
   "cell_type": "code",
   "execution_count": 4,
   "metadata": {},
   "outputs": [
    {
     "name": "stdout",
     "output_type": "stream",
     "text": [
      "cpu\n"
     ]
    },
    {
     "name": "stderr",
     "output_type": "stream",
     "text": [
      "/home/pwielopolski/anaconda3/envs/datascience/lib/python3.7/site-packages/torch/cuda/__init__.py:52: UserWarning: CUDA initialization: Found no NVIDIA driver on your system. Please check that you have an NVIDIA GPU and installed a driver from http://www.nvidia.com/Download/index.aspx (Triggered internally at  /pytorch/c10/cuda/CUDAFunctions.cpp:100.)\n",
      "  return torch._C._cuda_getDeviceCount() > 0\n"
     ]
    }
   ],
   "source": [
    "ROOT_DIR = '../'\n",
    "MODEL_PATH = ROOT_DIR + 'models/Patryk-ResNeXt-more-layers-model.pkt'\n",
    "TRAINING_LABELS_PATH = ROOT_DIR + 'data/training_labels.csv'\n",
    "TEST_DATA_PATH = ROOT_DIR + 'data/live_test_images'\n",
    "SUBMISSION_FILE = ROOT_DIR + 'results/submission.csv'\n",
    "DEVICE = torch.device('cuda' if torch.cuda.is_available() else 'cpu')\n",
    "\n",
    "print(DEVICE)"
   ]
  },
  {
   "cell_type": "code",
   "execution_count": 5,
   "metadata": {},
   "outputs": [],
   "source": [
    "class TestDataset(Dataset):\n",
    "\n",
    "    def __init__(self, img_dir, transform):\n",
    "        self.transform = transform\n",
    "        self.images = [os.path.join(img_dir, fname) for fname in os.listdir(img_dir)]\n",
    "\n",
    "    def __getitem__(self, idx):\n",
    "        image = Image.open(self.images[idx]).convert(\"RGB\")\n",
    "\n",
    "        if self.transform is not None:\n",
    "            image = self.transform(image)\n",
    "        return image\n",
    "  \n",
    "    def __len__(self):\n",
    "        return len(self.images)"
   ]
  },
  {
   "cell_type": "code",
   "execution_count": 6,
   "metadata": {},
   "outputs": [],
   "source": [
    "model = torch.load(MODEL_PATH, map_location=DEVICE)"
   ]
  },
  {
   "cell_type": "code",
   "execution_count": 7,
   "metadata": {},
   "outputs": [],
   "source": [
    "batch_size = 16\n",
    "transform = transforms.Compose([\n",
    "    transforms.Resize(256),\n",
    "    transforms.CenterCrop(224),\n",
    "    transforms.ToTensor(),\n",
    "    transforms.Normalize(mean=[0.485, 0.456, 0.406], std=[0.229, 0.224, 0.225]),\n",
    "])\n",
    "\n",
    "test_set = TestDataset(TEST_DATA_PATH, transform)\n",
    "test_loader = DataLoader(test_set, shuffle=False, batch_size=batch_size)"
   ]
  },
  {
   "cell_type": "code",
   "execution_count": 9,
   "metadata": {},
   "outputs": [],
   "source": [
    "results = []\n",
    "\n",
    "for batch in test_loader:\n",
    "    res = model(batch.to(DEVICE))\n",
    "    res = torch.sigmoid(res).to(torch.float32).cpu().detach().numpy()\n",
    "    results.append(res)"
   ]
  },
  {
   "cell_type": "code",
   "execution_count": 10,
   "metadata": {},
   "outputs": [],
   "source": [
    "optimal_thresholds = [\n",
    "    0.21428571, 0.45454545, 0.21875   , 0.41743119, 0.35714286,\n",
    "       0.44444444, 0.4       , 0.359375  , 0.38613861, 0.24      ,\n",
    "       0.33333333, 0.30813953, 0.35443038, 0.35714286, 0.34674923,\n",
    "       0.33333333, 0.4       , 0.34722222, 0.35      , 0.375     ,\n",
    "       0.28985507, 0.33333333, 0.28205128, 0.23076923, 0.15789474,\n",
    "       0.38505747, 0.33793103, 0.37837838, 0.35      , 0.3021978 ,\n",
    "       0.36170213, 0.46153846, 0.38888889, 0.31818182, 0.15909091,\n",
    "       0.42672414, 0.5       , 0.36824324]"
   ]
  },
  {
   "cell_type": "code",
   "execution_count": 15,
   "metadata": {},
   "outputs": [],
   "source": [
    "df = pd.read_csv(TRAINING_LABELS_PATH)\n",
    "df_test = pd.DataFrame(np.vstack(results), columns = df.columns[1:])\n",
    "df_test = (df_test > optimal_thresholds).astype(int) # Threshold optimization\n",
    "names = pd.DataFrame({'Name': [Path(el).parts[-1] for el in test_loader.dataset.images]})\n",
    "\n",
    "submission = pd.concat([names, df_test], axis = 1)\n",
    "submission.to_csv(SUBMISSION_FILE, index = False)"
   ]
  }
 ],
 "metadata": {
  "kernelspec": {
   "display_name": "Python 3",
   "language": "python",
   "name": "python3"
  },
  "language_info": {
   "codemirror_mode": {
    "name": "ipython",
    "version": 3
   },
   "file_extension": ".py",
   "mimetype": "text/x-python",
   "name": "python",
   "nbconvert_exporter": "python",
   "pygments_lexer": "ipython3",
   "version": "3.7.4"
  }
 },
 "nbformat": 4,
 "nbformat_minor": 2
}
