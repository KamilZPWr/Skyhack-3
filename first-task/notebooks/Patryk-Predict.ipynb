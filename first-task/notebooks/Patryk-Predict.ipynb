{
 "cells": [
  {
   "cell_type": "code",
   "execution_count": 1,
   "metadata": {},
   "outputs": [],
   "source": [
    "import os\n",
    "\n",
    "from pathlib import Path\n",
    "\n",
    "import pandas as pd\n",
    "import numpy as np\n",
    "import torch\n",
    "import torch.nn as nn\n",
    "\n",
    "from PIL import Image\n",
    "from torch.utils.data import Dataset, DataLoader\n",
    "from torchvision import datasets, models, transforms"
   ]
  },
  {
   "cell_type": "code",
   "execution_count": 2,
   "metadata": {},
   "outputs": [
    {
     "name": "stdout",
     "output_type": "stream",
     "text": [
      "cpu\n"
     ]
    },
    {
     "name": "stderr",
     "output_type": "stream",
     "text": [
      "/home/pwielopolski/anaconda3/envs/datascience/lib/python3.7/site-packages/torch/cuda/__init__.py:52: UserWarning: CUDA initialization: Found no NVIDIA driver on your system. Please check that you have an NVIDIA GPU and installed a driver from http://www.nvidia.com/Download/index.aspx (Triggered internally at  /pytorch/c10/cuda/CUDAFunctions.cpp:100.)\n",
      "  return torch._C._cuda_getDeviceCount() > 0\n"
     ]
    }
   ],
   "source": [
    "ROOT_DIR = '../'\n",
    "MODEL_PATH = ROOT_DIR + 'models/Patryk-ResNeXt-optimization-model.pkt'\n",
    "TRAINING_LABELS_PATH = ROOT_DIR + 'data/training_labels.csv'\n",
    "TEST_DATA_PATH = ROOT_DIR + 'data/live_test_images'\n",
    "SUBMISSION_FILE = ROOT_DIR + 'results/submission.csv'\n",
    "OPTIMAL_THRESHOLD_PATH = ROOT_DIR + 'models/optimal_thresholds.npy'\n",
    "\n",
    "DEVICE = torch.device('cuda' if torch.cuda.is_available() else 'cpu')\n",
    "\n",
    "print(DEVICE)"
   ]
  },
  {
   "cell_type": "code",
   "execution_count": 3,
   "metadata": {},
   "outputs": [],
   "source": [
    "class TestDataset(Dataset):\n",
    "\n",
    "    def __init__(self, img_dir, transform):\n",
    "        self.transform = transform\n",
    "        self.images = [os.path.join(img_dir, fname) for fname in os.listdir(img_dir)]\n",
    "\n",
    "    def __getitem__(self, idx):\n",
    "        image = Image.open(self.images[idx]).convert(\"RGB\")\n",
    "\n",
    "        if self.transform is not None:\n",
    "            image = self.transform(image)\n",
    "        return image\n",
    "  \n",
    "    def __len__(self):\n",
    "        return len(self.images)"
   ]
  },
  {
   "cell_type": "code",
   "execution_count": 4,
   "metadata": {},
   "outputs": [],
   "source": [
    "model = torch.load(MODEL_PATH, map_location=DEVICE)"
   ]
  },
  {
   "cell_type": "code",
   "execution_count": 5,
   "metadata": {},
   "outputs": [],
   "source": [
    "batch_size = 16\n",
    "transform = transforms.Compose([\n",
    "    transforms.Resize(256),\n",
    "    transforms.CenterCrop(224),\n",
    "    transforms.ToTensor(),\n",
    "    transforms.Normalize(mean=[0.485, 0.456, 0.406], std=[0.229, 0.224, 0.225]),\n",
    "])\n",
    "\n",
    "test_set = TestDataset(TEST_DATA_PATH, transform)\n",
    "test_loader = DataLoader(test_set, shuffle=False, batch_size=batch_size)"
   ]
  },
  {
   "cell_type": "code",
   "execution_count": 6,
   "metadata": {},
   "outputs": [],
   "source": [
    "results = []\n",
    "\n",
    "for batch in test_loader:\n",
    "    res = model(batch.to(DEVICE))\n",
    "    res = torch.sigmoid(res).to(torch.float32).cpu().detach().numpy()\n",
    "    results.append(res)"
   ]
  },
  {
   "cell_type": "code",
   "execution_count": 7,
   "metadata": {},
   "outputs": [],
   "source": [
    "with open(OPTIMAL_THRESHOLD_PATH, 'rb') as f:\n",
    "    optimal_thresholds = np.load(f)"
   ]
  },
  {
   "cell_type": "code",
   "execution_count": 8,
   "metadata": {},
   "outputs": [
    {
     "data": {
      "text/plain": [
       "array([0.125     , 0.33333333, 0.17073171, 0.40366972, 0.17647059,\n",
       "       0.36363636, 0.4       , 0.30952381, 0.34065934, 0.17460317,\n",
       "       0.11111111, 0.26857143, 0.32038835, 0.30882353, 0.34558824,\n",
       "       0.26666667, 0.3       , 0.3030303 , 0.22222222, 0.22857143,\n",
       "       0.20588235, 0.20689655, 0.2       , 0.08      , 0.125     ,\n",
       "       0.3880597 , 0.29275362, 0.35      , 0.20689655, 0.29299363,\n",
       "       0.29090909, 0.46153846, 0.27272727, 0.2       , 0.0952381 ,\n",
       "       0.42553191, 0.5       , 0.32824427])"
      ]
     },
     "execution_count": 8,
     "metadata": {},
     "output_type": "execute_result"
    }
   ],
   "source": [
    "optimal_thresholds"
   ]
  },
  {
   "cell_type": "code",
   "execution_count": 9,
   "metadata": {},
   "outputs": [],
   "source": [
    "df = pd.read_csv(TRAINING_LABELS_PATH)\n",
    "df_test = pd.DataFrame(np.vstack(results), columns = df.columns[1:])\n",
    "df_test = (df_test > optimal_thresholds).astype(int) # Threshold optimization\n",
    "names = pd.DataFrame({'Name': [Path(el).parts[-1] for el in test_loader.dataset.images]})\n",
    "\n",
    "submission = pd.concat([names, df_test], axis = 1)\n",
    "submission.to_csv(SUBMISSION_FILE, index = False)"
   ]
  }
 ],
 "metadata": {
  "kernelspec": {
   "display_name": "Python 3",
   "language": "python",
   "name": "python3"
  },
  "language_info": {
   "codemirror_mode": {
    "name": "ipython",
    "version": 3
   },
   "file_extension": ".py",
   "mimetype": "text/x-python",
   "name": "python",
   "nbconvert_exporter": "python",
   "pygments_lexer": "ipython3",
   "version": "3.7.4"
  }
 },
 "nbformat": 4,
 "nbformat_minor": 2
}
