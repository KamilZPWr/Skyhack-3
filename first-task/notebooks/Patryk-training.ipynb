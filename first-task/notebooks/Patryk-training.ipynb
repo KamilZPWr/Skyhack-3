{
  "nbformat": 4,
  "nbformat_minor": 0,
  "metadata": {
    "accelerator": "GPU",
    "colab": {
      "name": "Copy of Untitled0.ipynb",
      "provenance": [],
      "collapsed_sections": []
    },
    "kernelspec": {
      "display_name": "Python 3",
      "language": "python",
      "name": "python3"
    },
    "language_info": {
      "codemirror_mode": {
        "name": "ipython",
        "version": 3
      },
      "file_extension": ".py",
      "mimetype": "text/x-python",
      "name": "python",
      "nbconvert_exporter": "python",
      "pygments_lexer": "ipython3",
      "version": "3.7.4"
    },
    "widgets": {
      "application/vnd.jupyter.widget-state+json": {
        "63f4c1c0485f473c9a9253916e090d26": {
          "model_module": "@jupyter-widgets/controls",
          "model_name": "HBoxModel",
          "state": {
            "_view_name": "HBoxView",
            "_dom_classes": [],
            "_model_name": "HBoxModel",
            "_view_module": "@jupyter-widgets/controls",
            "_model_module_version": "1.5.0",
            "_view_count": null,
            "_view_module_version": "1.5.0",
            "box_style": "",
            "layout": "IPY_MODEL_0ee74462fa8a4c8d960a2ed2d52fdc23",
            "_model_module": "@jupyter-widgets/controls",
            "children": [
              "IPY_MODEL_517ac6c4afd44412a85c8d6455577950",
              "IPY_MODEL_094104ede3ff4030b9eae9b8290d1378"
            ]
          }
        },
        "0ee74462fa8a4c8d960a2ed2d52fdc23": {
          "model_module": "@jupyter-widgets/base",
          "model_name": "LayoutModel",
          "state": {
            "_view_name": "LayoutView",
            "grid_template_rows": null,
            "right": null,
            "justify_content": null,
            "_view_module": "@jupyter-widgets/base",
            "overflow": null,
            "_model_module_version": "1.2.0",
            "_view_count": null,
            "flex_flow": null,
            "width": null,
            "min_width": null,
            "border": null,
            "align_items": null,
            "bottom": null,
            "_model_module": "@jupyter-widgets/base",
            "top": null,
            "grid_column": null,
            "overflow_y": null,
            "overflow_x": null,
            "grid_auto_flow": null,
            "grid_area": null,
            "grid_template_columns": null,
            "flex": null,
            "_model_name": "LayoutModel",
            "justify_items": null,
            "grid_row": null,
            "max_height": null,
            "align_content": null,
            "visibility": null,
            "align_self": null,
            "height": null,
            "min_height": null,
            "padding": null,
            "grid_auto_rows": null,
            "grid_gap": null,
            "max_width": null,
            "order": null,
            "_view_module_version": "1.2.0",
            "grid_template_areas": null,
            "object_position": null,
            "object_fit": null,
            "grid_auto_columns": null,
            "margin": null,
            "display": null,
            "left": null
          }
        },
        "517ac6c4afd44412a85c8d6455577950": {
          "model_module": "@jupyter-widgets/controls",
          "model_name": "FloatProgressModel",
          "state": {
            "_view_name": "ProgressView",
            "style": "IPY_MODEL_a3397f6201a348ce9dc43415f86accc8",
            "_dom_classes": [],
            "description": "100%",
            "_model_name": "FloatProgressModel",
            "bar_style": "success",
            "max": 356082095,
            "_view_module": "@jupyter-widgets/controls",
            "_model_module_version": "1.5.0",
            "value": 356082095,
            "_view_count": null,
            "_view_module_version": "1.5.0",
            "orientation": "horizontal",
            "min": 0,
            "description_tooltip": null,
            "_model_module": "@jupyter-widgets/controls",
            "layout": "IPY_MODEL_2369826aad08492ebcf19418255fa464"
          }
        },
        "094104ede3ff4030b9eae9b8290d1378": {
          "model_module": "@jupyter-widgets/controls",
          "model_name": "HTMLModel",
          "state": {
            "_view_name": "HTMLView",
            "style": "IPY_MODEL_4e6b9a2139874a11a73389deabf86e50",
            "_dom_classes": [],
            "description": "",
            "_model_name": "HTMLModel",
            "placeholder": "​",
            "_view_module": "@jupyter-widgets/controls",
            "_model_module_version": "1.5.0",
            "value": " 340M/340M [00:27&lt;00:00, 13.2MB/s]",
            "_view_count": null,
            "_view_module_version": "1.5.0",
            "description_tooltip": null,
            "_model_module": "@jupyter-widgets/controls",
            "layout": "IPY_MODEL_7d8aa95ab792484f88ff8925a184917d"
          }
        },
        "a3397f6201a348ce9dc43415f86accc8": {
          "model_module": "@jupyter-widgets/controls",
          "model_name": "ProgressStyleModel",
          "state": {
            "_view_name": "StyleView",
            "_model_name": "ProgressStyleModel",
            "description_width": "initial",
            "_view_module": "@jupyter-widgets/base",
            "_model_module_version": "1.5.0",
            "_view_count": null,
            "_view_module_version": "1.2.0",
            "bar_color": null,
            "_model_module": "@jupyter-widgets/controls"
          }
        },
        "2369826aad08492ebcf19418255fa464": {
          "model_module": "@jupyter-widgets/base",
          "model_name": "LayoutModel",
          "state": {
            "_view_name": "LayoutView",
            "grid_template_rows": null,
            "right": null,
            "justify_content": null,
            "_view_module": "@jupyter-widgets/base",
            "overflow": null,
            "_model_module_version": "1.2.0",
            "_view_count": null,
            "flex_flow": null,
            "width": null,
            "min_width": null,
            "border": null,
            "align_items": null,
            "bottom": null,
            "_model_module": "@jupyter-widgets/base",
            "top": null,
            "grid_column": null,
            "overflow_y": null,
            "overflow_x": null,
            "grid_auto_flow": null,
            "grid_area": null,
            "grid_template_columns": null,
            "flex": null,
            "_model_name": "LayoutModel",
            "justify_items": null,
            "grid_row": null,
            "max_height": null,
            "align_content": null,
            "visibility": null,
            "align_self": null,
            "height": null,
            "min_height": null,
            "padding": null,
            "grid_auto_rows": null,
            "grid_gap": null,
            "max_width": null,
            "order": null,
            "_view_module_version": "1.2.0",
            "grid_template_areas": null,
            "object_position": null,
            "object_fit": null,
            "grid_auto_columns": null,
            "margin": null,
            "display": null,
            "left": null
          }
        },
        "4e6b9a2139874a11a73389deabf86e50": {
          "model_module": "@jupyter-widgets/controls",
          "model_name": "DescriptionStyleModel",
          "state": {
            "_view_name": "StyleView",
            "_model_name": "DescriptionStyleModel",
            "description_width": "",
            "_view_module": "@jupyter-widgets/base",
            "_model_module_version": "1.5.0",
            "_view_count": null,
            "_view_module_version": "1.2.0",
            "_model_module": "@jupyter-widgets/controls"
          }
        },
        "7d8aa95ab792484f88ff8925a184917d": {
          "model_module": "@jupyter-widgets/base",
          "model_name": "LayoutModel",
          "state": {
            "_view_name": "LayoutView",
            "grid_template_rows": null,
            "right": null,
            "justify_content": null,
            "_view_module": "@jupyter-widgets/base",
            "overflow": null,
            "_model_module_version": "1.2.0",
            "_view_count": null,
            "flex_flow": null,
            "width": null,
            "min_width": null,
            "border": null,
            "align_items": null,
            "bottom": null,
            "_model_module": "@jupyter-widgets/base",
            "top": null,
            "grid_column": null,
            "overflow_y": null,
            "overflow_x": null,
            "grid_auto_flow": null,
            "grid_area": null,
            "grid_template_columns": null,
            "flex": null,
            "_model_name": "LayoutModel",
            "justify_items": null,
            "grid_row": null,
            "max_height": null,
            "align_content": null,
            "visibility": null,
            "align_self": null,
            "height": null,
            "min_height": null,
            "padding": null,
            "grid_auto_rows": null,
            "grid_gap": null,
            "max_width": null,
            "order": null,
            "_view_module_version": "1.2.0",
            "grid_template_areas": null,
            "object_position": null,
            "object_fit": null,
            "grid_auto_columns": null,
            "margin": null,
            "display": null,
            "left": null
          }
        }
      }
    }
  },
  "cells": [
    {
      "cell_type": "code",
      "metadata": {
        "id": "C1PT7qOwuT6T",
        "outputId": "1e24f98c-f989-49c1-fc1a-2adf6037cb61",
        "colab": {
          "base_uri": "https://localhost:8080/"
        }
      },
      "source": [
        "from google.colab import drive, files\n",
        "drive.mount('/content/drive')"
      ],
      "execution_count": 8,
      "outputs": [
        {
          "output_type": "stream",
          "text": [
            "Mounted at /content/drive\n"
          ],
          "name": "stdout"
        }
      ]
    },
    {
      "cell_type": "code",
      "metadata": {
        "id": "jKUXg5NRCQSq",
        "outputId": "9730e411-30d4-4545-fbc6-35fd766288f2",
        "colab": {
          "base_uri": "https://localhost:8080/"
        }
      },
      "source": [
        "!pip install catalyst"
      ],
      "execution_count": 9,
      "outputs": [
        {
          "output_type": "stream",
          "text": [
            "Collecting catalyst\n",
            "\u001b[?25l  Downloading https://files.pythonhosted.org/packages/39/45/24a485b76527a2601f11f12c16b5b11f853b42a3ba029d21d5c80c6c30d1/catalyst-20.11-py2.py3-none-any.whl (489kB)\n",
            "\u001b[K     |████████████████████████████████| 491kB 14.1MB/s \n",
            "\u001b[?25hCollecting tensorboardX\n",
            "\u001b[?25l  Downloading https://files.pythonhosted.org/packages/af/0c/4f41bcd45db376e6fe5c619c01100e9b7531c55791b7244815bac6eac32c/tensorboardX-2.1-py2.py3-none-any.whl (308kB)\n",
            "\u001b[K     |████████████████████████████████| 317kB 16.4MB/s \n",
            "\u001b[?25hRequirement already satisfied: torch>=1.1.0 in /usr/local/lib/python3.6/dist-packages (from catalyst) (1.7.0+cu101)\n",
            "Requirement already satisfied: tensorboard>=1.14.0 in /usr/local/lib/python3.6/dist-packages (from catalyst) (2.3.0)\n",
            "Collecting GitPython>=3.1.1\n",
            "\u001b[?25l  Downloading https://files.pythonhosted.org/packages/24/d1/a7f8fe3df258549b303415157328bfcc63e9b11d06a7ad7a3327f3d32606/GitPython-3.1.11-py3-none-any.whl (159kB)\n",
            "\u001b[K     |████████████████████████████████| 163kB 49.5MB/s \n",
            "\u001b[?25hRequirement already satisfied: matplotlib in /usr/local/lib/python3.6/dist-packages (from catalyst) (3.2.2)\n",
            "Requirement already satisfied: ipython in /usr/local/lib/python3.6/dist-packages (from catalyst) (5.5.0)\n",
            "Requirement already satisfied: numpy>=1.16.4 in /usr/local/lib/python3.6/dist-packages (from catalyst) (1.18.5)\n",
            "Requirement already satisfied: plotly>=4.1.0 in /usr/local/lib/python3.6/dist-packages (from catalyst) (4.4.1)\n",
            "Requirement already satisfied: pandas>=0.22 in /usr/local/lib/python3.6/dist-packages (from catalyst) (1.1.4)\n",
            "Requirement already satisfied: packaging in /usr/local/lib/python3.6/dist-packages (from catalyst) (20.4)\n",
            "Requirement already satisfied: PyYAML in /usr/local/lib/python3.6/dist-packages (from catalyst) (3.13)\n",
            "Requirement already satisfied: scikit-learn>=0.20 in /usr/local/lib/python3.6/dist-packages (from catalyst) (0.22.2.post1)\n",
            "Collecting deprecation\n",
            "  Downloading https://files.pythonhosted.org/packages/02/c3/253a89ee03fc9b9682f1541728eb66db7db22148cd94f89ab22528cd1e1b/deprecation-2.1.0-py2.py3-none-any.whl\n",
            "Requirement already satisfied: tqdm>=4.33.0 in /usr/local/lib/python3.6/dist-packages (from catalyst) (4.41.1)\n",
            "Requirement already satisfied: six in /usr/local/lib/python3.6/dist-packages (from tensorboardX->catalyst) (1.15.0)\n",
            "Requirement already satisfied: protobuf>=3.8.0 in /usr/local/lib/python3.6/dist-packages (from tensorboardX->catalyst) (3.12.4)\n",
            "Requirement already satisfied: dataclasses in /usr/local/lib/python3.6/dist-packages (from torch>=1.1.0->catalyst) (0.7)\n",
            "Requirement already satisfied: typing-extensions in /usr/local/lib/python3.6/dist-packages (from torch>=1.1.0->catalyst) (3.7.4.3)\n",
            "Requirement already satisfied: future in /usr/local/lib/python3.6/dist-packages (from torch>=1.1.0->catalyst) (0.16.0)\n",
            "Requirement already satisfied: requests<3,>=2.21.0 in /usr/local/lib/python3.6/dist-packages (from tensorboard>=1.14.0->catalyst) (2.23.0)\n",
            "Requirement already satisfied: markdown>=2.6.8 in /usr/local/lib/python3.6/dist-packages (from tensorboard>=1.14.0->catalyst) (3.3.3)\n",
            "Requirement already satisfied: tensorboard-plugin-wit>=1.6.0 in /usr/local/lib/python3.6/dist-packages (from tensorboard>=1.14.0->catalyst) (1.7.0)\n",
            "Requirement already satisfied: werkzeug>=0.11.15 in /usr/local/lib/python3.6/dist-packages (from tensorboard>=1.14.0->catalyst) (1.0.1)\n",
            "Requirement already satisfied: grpcio>=1.24.3 in /usr/local/lib/python3.6/dist-packages (from tensorboard>=1.14.0->catalyst) (1.33.2)\n",
            "Requirement already satisfied: google-auth-oauthlib<0.5,>=0.4.1 in /usr/local/lib/python3.6/dist-packages (from tensorboard>=1.14.0->catalyst) (0.4.2)\n",
            "Requirement already satisfied: absl-py>=0.4 in /usr/local/lib/python3.6/dist-packages (from tensorboard>=1.14.0->catalyst) (0.10.0)\n",
            "Requirement already satisfied: wheel>=0.26; python_version >= \"3\" in /usr/local/lib/python3.6/dist-packages (from tensorboard>=1.14.0->catalyst) (0.35.1)\n",
            "Requirement already satisfied: setuptools>=41.0.0 in /usr/local/lib/python3.6/dist-packages (from tensorboard>=1.14.0->catalyst) (50.3.2)\n",
            "Requirement already satisfied: google-auth<2,>=1.6.3 in /usr/local/lib/python3.6/dist-packages (from tensorboard>=1.14.0->catalyst) (1.17.2)\n",
            "Collecting gitdb<5,>=4.0.1\n",
            "\u001b[?25l  Downloading https://files.pythonhosted.org/packages/48/11/d1800bca0a3bae820b84b7d813ad1eff15a48a64caea9c823fc8c1b119e8/gitdb-4.0.5-py3-none-any.whl (63kB)\n",
            "\u001b[K     |████████████████████████████████| 71kB 11.2MB/s \n",
            "\u001b[?25hRequirement already satisfied: python-dateutil>=2.1 in /usr/local/lib/python3.6/dist-packages (from matplotlib->catalyst) (2.8.1)\n",
            "Requirement already satisfied: pyparsing!=2.0.4,!=2.1.2,!=2.1.6,>=2.0.1 in /usr/local/lib/python3.6/dist-packages (from matplotlib->catalyst) (2.4.7)\n",
            "Requirement already satisfied: kiwisolver>=1.0.1 in /usr/local/lib/python3.6/dist-packages (from matplotlib->catalyst) (1.3.1)\n",
            "Requirement already satisfied: cycler>=0.10 in /usr/local/lib/python3.6/dist-packages (from matplotlib->catalyst) (0.10.0)\n",
            "Requirement already satisfied: pexpect; sys_platform != \"win32\" in /usr/local/lib/python3.6/dist-packages (from ipython->catalyst) (4.8.0)\n",
            "Requirement already satisfied: simplegeneric>0.8 in /usr/local/lib/python3.6/dist-packages (from ipython->catalyst) (0.8.1)\n",
            "Requirement already satisfied: pygments in /usr/local/lib/python3.6/dist-packages (from ipython->catalyst) (2.6.1)\n",
            "Requirement already satisfied: decorator in /usr/local/lib/python3.6/dist-packages (from ipython->catalyst) (4.4.2)\n",
            "Requirement already satisfied: pickleshare in /usr/local/lib/python3.6/dist-packages (from ipython->catalyst) (0.7.5)\n",
            "Requirement already satisfied: prompt-toolkit<2.0.0,>=1.0.4 in /usr/local/lib/python3.6/dist-packages (from ipython->catalyst) (1.0.18)\n",
            "Requirement already satisfied: traitlets>=4.2 in /usr/local/lib/python3.6/dist-packages (from ipython->catalyst) (4.3.3)\n",
            "Requirement already satisfied: retrying>=1.3.3 in /usr/local/lib/python3.6/dist-packages (from plotly>=4.1.0->catalyst) (1.3.3)\n",
            "Requirement already satisfied: pytz>=2017.2 in /usr/local/lib/python3.6/dist-packages (from pandas>=0.22->catalyst) (2018.9)\n",
            "Requirement already satisfied: scipy>=0.17.0 in /usr/local/lib/python3.6/dist-packages (from scikit-learn>=0.20->catalyst) (1.4.1)\n",
            "Requirement already satisfied: joblib>=0.11 in /usr/local/lib/python3.6/dist-packages (from scikit-learn>=0.20->catalyst) (0.17.0)\n",
            "Requirement already satisfied: certifi>=2017.4.17 in /usr/local/lib/python3.6/dist-packages (from requests<3,>=2.21.0->tensorboard>=1.14.0->catalyst) (2020.6.20)\n",
            "Requirement already satisfied: chardet<4,>=3.0.2 in /usr/local/lib/python3.6/dist-packages (from requests<3,>=2.21.0->tensorboard>=1.14.0->catalyst) (3.0.4)\n",
            "Requirement already satisfied: idna<3,>=2.5 in /usr/local/lib/python3.6/dist-packages (from requests<3,>=2.21.0->tensorboard>=1.14.0->catalyst) (2.10)\n",
            "Requirement already satisfied: urllib3!=1.25.0,!=1.25.1,<1.26,>=1.21.1 in /usr/local/lib/python3.6/dist-packages (from requests<3,>=2.21.0->tensorboard>=1.14.0->catalyst) (1.24.3)\n",
            "Requirement already satisfied: importlib-metadata; python_version < \"3.8\" in /usr/local/lib/python3.6/dist-packages (from markdown>=2.6.8->tensorboard>=1.14.0->catalyst) (2.0.0)\n",
            "Requirement already satisfied: requests-oauthlib>=0.7.0 in /usr/local/lib/python3.6/dist-packages (from google-auth-oauthlib<0.5,>=0.4.1->tensorboard>=1.14.0->catalyst) (1.3.0)\n",
            "Requirement already satisfied: rsa<5,>=3.1.4; python_version >= \"3\" in /usr/local/lib/python3.6/dist-packages (from google-auth<2,>=1.6.3->tensorboard>=1.14.0->catalyst) (4.6)\n",
            "Requirement already satisfied: cachetools<5.0,>=2.0.0 in /usr/local/lib/python3.6/dist-packages (from google-auth<2,>=1.6.3->tensorboard>=1.14.0->catalyst) (4.1.1)\n",
            "Requirement already satisfied: pyasn1-modules>=0.2.1 in /usr/local/lib/python3.6/dist-packages (from google-auth<2,>=1.6.3->tensorboard>=1.14.0->catalyst) (0.2.8)\n",
            "Collecting smmap<4,>=3.0.1\n",
            "  Downloading https://files.pythonhosted.org/packages/b0/9a/4d409a6234eb940e6a78dfdfc66156e7522262f5f2fecca07dc55915952d/smmap-3.0.4-py2.py3-none-any.whl\n",
            "Requirement already satisfied: ptyprocess>=0.5 in /usr/local/lib/python3.6/dist-packages (from pexpect; sys_platform != \"win32\"->ipython->catalyst) (0.6.0)\n",
            "Requirement already satisfied: wcwidth in /usr/local/lib/python3.6/dist-packages (from prompt-toolkit<2.0.0,>=1.0.4->ipython->catalyst) (0.2.5)\n",
            "Requirement already satisfied: ipython-genutils in /usr/local/lib/python3.6/dist-packages (from traitlets>=4.2->ipython->catalyst) (0.2.0)\n",
            "Requirement already satisfied: zipp>=0.5 in /usr/local/lib/python3.6/dist-packages (from importlib-metadata; python_version < \"3.8\"->markdown>=2.6.8->tensorboard>=1.14.0->catalyst) (3.4.0)\n",
            "Requirement already satisfied: oauthlib>=3.0.0 in /usr/local/lib/python3.6/dist-packages (from requests-oauthlib>=0.7.0->google-auth-oauthlib<0.5,>=0.4.1->tensorboard>=1.14.0->catalyst) (3.1.0)\n",
            "Requirement already satisfied: pyasn1>=0.1.3 in /usr/local/lib/python3.6/dist-packages (from rsa<5,>=3.1.4; python_version >= \"3\"->google-auth<2,>=1.6.3->tensorboard>=1.14.0->catalyst) (0.4.8)\n",
            "Installing collected packages: tensorboardX, smmap, gitdb, GitPython, deprecation, catalyst\n",
            "Successfully installed GitPython-3.1.11 catalyst-20.11 deprecation-2.1.0 gitdb-4.0.5 smmap-3.0.4 tensorboardX-2.1\n"
          ],
          "name": "stdout"
        }
      ]
    },
    {
      "cell_type": "code",
      "metadata": {
        "id": "PY8CxiGLvFQn"
      },
      "source": [
        "import os\n",
        "\n",
        "from pathlib import Path\n",
        "\n",
        "import pandas as pd\n",
        "import numpy as np\n",
        "import torch\n",
        "import torch.nn as nn\n",
        "\n",
        "from PIL import Image\n",
        "from sklearn.metrics import f1_score\n",
        "from sklearn.model_selection import train_test_split\n",
        "from torch.utils.data import Dataset, DataLoader\n",
        "from torchvision import datasets, models, transforms\n",
        "\n",
        "from catalyst import dl\n",
        "from catalyst.dl.callbacks import AccuracyCallback, EarlyStoppingCallback"
      ],
      "execution_count": 12,
      "outputs": []
    },
    {
      "cell_type": "code",
      "metadata": {
        "id": "vmYx4H2LVKT5",
        "outputId": "a2b6720b-5e3b-4da2-fb35-e539f0f3166d",
        "colab": {
          "base_uri": "https://localhost:8080/"
        }
      },
      "source": [
        "ROOT_DIR = '/content/drive/My Drive/Colab Notebooks/'\n",
        "TRAIN_SAMPLES_PATH = 'train.csv'\n",
        "VAL_SAMPLES_PATH = 'val.csv'\n",
        "SUBMISSION_FILE = 'submission.csv'\n",
        "MODEL_PATH = 'model.pkt'\n",
        "NUM_CLASSES = 38\n",
        "DEVICE = torch.device('cuda' if torch.cuda.is_available() else 'cpu')\n",
        "\n",
        "print(DEVICE)"
      ],
      "execution_count": 13,
      "outputs": [
        {
          "output_type": "stream",
          "text": [
            "cuda\n"
          ],
          "name": "stdout"
        }
      ]
    },
    {
      "cell_type": "code",
      "metadata": {
        "id": "DiftcXIPUmGC"
      },
      "source": [
        "class MultiClassDataset(Dataset):\n",
        "\n",
        "    def __init__(self , csv_file , img_dir , transform=None):\n",
        "        self.df = pd.read_csv(csv_file)\n",
        "        self.img_dir = img_dir\n",
        "        self.transform = transform\n",
        "    \n",
        "    def __getitem__(self, idx):\n",
        "        d = self.df.iloc[idx]\n",
        "        image = Image.open(f'{self.img_dir}/{d.Name}').convert(\"RGB\")\n",
        "        label = torch.tensor(d[1:].tolist() , dtype=torch.float32)\n",
        "    \n",
        "        if self.transform is not None:\n",
        "            image = self.transform(image)\n",
        "        return image, label\n",
        "  \n",
        "    def __len__(self):\n",
        "        return len(self.df)"
      ],
      "execution_count": 14,
      "outputs": []
    },
    {
      "cell_type": "code",
      "metadata": {
        "id": "j1CeCs5uc89C"
      },
      "source": [
        "def get_additional_data(dataframe, categories, frac = 2):\n",
        "    additional_data = [\n",
        "        dataframe[dataframe[category] == 1].sample(frac = frac, replace = True) for category in categories\n",
        "    ]\n",
        "    return pd.concat(additional_data)"
      ],
      "execution_count": 15,
      "outputs": []
    },
    {
      "cell_type": "code",
      "metadata": {
        "id": "LkUQ4D7Iy3O7"
      },
      "source": [
        "categories = ['Open-air museum', 'Food', 'Amusement park', 'Park', 'Sports facility', 'Mine']\n",
        "\n",
        "df = pd.read_csv(ROOT_DIR + 'data/training_labels.csv')\n",
        "df_train, df_val = train_test_split(df, test_size = 0.1)\n",
        "df_additional_data = get_additional_data(df_train, categories)\n",
        "df_train = pd.concat([df_train, df_additional_data])\n",
        "\n",
        "df_train.to_csv(TRAIN_SAMPLES_PATH, index=False)\n",
        "df_val.to_csv(VAL_SAMPLES_PATH, index=False)"
      ],
      "execution_count": 16,
      "outputs": []
    },
    {
      "cell_type": "code",
      "metadata": {
        "id": "NifklEseVIIx",
        "outputId": "cacd2f02-46f7-4c1c-d1f2-fdcb7e8cf231",
        "colab": {
          "base_uri": "https://localhost:8080/"
        }
      },
      "source": [
        "batch_size = 128\n",
        "\n",
        "transform_train = transforms.Compose([\n",
        "    transforms.Resize(256),\n",
        "    transforms.RandomCrop(224),\n",
        "    transforms.ToTensor(),\n",
        "    transforms.ColorJitter(hue=.05, saturation=.05),\n",
        "    transforms.Normalize(mean=[0.485, 0.456, 0.406], std=[0.229, 0.224, 0.225]),\n",
        "    transforms.RandomHorizontalFlip()                                 \n",
        "])\n",
        "\n",
        "transform_val = transforms.Compose([\n",
        "    transforms.Resize(256),\n",
        "    transforms.CenterCrop(224),\n",
        "    transforms.ToTensor(),\n",
        "    transforms.Normalize(mean=[0.485, 0.456, 0.406], std=[0.229, 0.224, 0.225])\n",
        "])\n",
        "\n",
        "training_set = MultiClassDataset(TRAIN_SAMPLES_PATH , ROOT_DIR + 'data/training_images' , transform_train)\n",
        "validation_set = MultiClassDataset(VAL_SAMPLES_PATH , ROOT_DIR + 'data/training_images' , transform_val)\n",
        "\n",
        "print(f'Number of samples: Train: {len(training_set)}, Validation: {len(validation_set)}')\n",
        "loaders = {\n",
        "    \"train\":DataLoader(training_set , shuffle=True, batch_size=batch_size),\n",
        "    \"valid\": DataLoader(validation_set , shuffle=False, batch_size=batch_size)\n",
        "    }"
      ],
      "execution_count": 17,
      "outputs": [
        {
          "output_type": "stream",
          "text": [
            "Number of samples: Train: 4176, Validation: 375\n"
          ],
          "name": "stdout"
        }
      ]
    },
    {
      "cell_type": "code",
      "metadata": {
        "id": "NUtOBabIXnza"
      },
      "source": [
        "def set_parameter_requires_grad(model, feature_extracting):\n",
        "    if feature_extracting:\n",
        "        for param in model.parameters():\n",
        "            param.requires_grad = False\n",
        "\n",
        "def get_classification_network(in_features, num_classes):\n",
        "    return nn.Sequential(\n",
        "         nn.Linear(in_features, in_features // 2),\n",
        "         nn.BatchNorm1d(in_features // 2),\n",
        "         nn.ReLU(),\n",
        "         nn.Dropout(p = 0.5),\n",
        "         nn.Linear(in_features // 2, in_features // 4),\n",
        "         nn.BatchNorm1d(in_features // 4),\n",
        "         nn.ReLU(),\n",
        "         nn.Dropout(p = 0.5),\n",
        "         nn.Linear(in_features // 4, in_features // 8),\n",
        "         nn.BatchNorm1d(in_features // 8),\n",
        "         nn.ReLU(),\n",
        "         nn.Dropout(p = 0.5),\n",
        "         nn.Linear(in_features // 8, num_classes)\n",
        "    )\n",
        "\n",
        "def get_model(num_classes, feature_extract=True):\n",
        "    model = models.resnext101_32x8d(pretrained = True)\n",
        "    set_parameter_requires_grad(model, feature_extract)\n",
        "    num_ftrs = model.fc.in_features\n",
        "    model.fc = get_classification_network(num_ftrs, num_classes)\n",
        "    return model\n",
        "\n",
        "def skyhacks_f1_score(preds, y):\n",
        "    return f1_score(y, preds, average = 'macro')"
      ],
      "execution_count": 18,
      "outputs": []
    },
    {
      "cell_type": "code",
      "metadata": {
        "id": "IWyha4HPeVhF",
        "outputId": "6e26daef-78b1-47eb-e711-af8fdfefcaeb",
        "colab": {
          "base_uri": "https://localhost:8080/",
          "height": 84,
          "referenced_widgets": [
            "63f4c1c0485f473c9a9253916e090d26",
            "0ee74462fa8a4c8d960a2ed2d52fdc23",
            "517ac6c4afd44412a85c8d6455577950",
            "094104ede3ff4030b9eae9b8290d1378",
            "a3397f6201a348ce9dc43415f86accc8",
            "2369826aad08492ebcf19418255fa464",
            "4e6b9a2139874a11a73389deabf86e50",
            "7d8aa95ab792484f88ff8925a184917d"
          ]
        }
      },
      "source": [
        "model = get_model(NUM_CLASSES)"
      ],
      "execution_count": 19,
      "outputs": [
        {
          "output_type": "stream",
          "text": [
            "Downloading: \"https://download.pytorch.org/models/resnext101_32x8d-8ba56ff5.pth\" to /root/.cache/torch/hub/checkpoints/resnext101_32x8d-8ba56ff5.pth\n"
          ],
          "name": "stderr"
        },
        {
          "output_type": "display_data",
          "data": {
            "application/vnd.jupyter.widget-view+json": {
              "model_id": "63f4c1c0485f473c9a9253916e090d26",
              "version_minor": 0,
              "version_major": 2
            },
            "text/plain": [
              "HBox(children=(FloatProgress(value=0.0, max=356082095.0), HTML(value='')))"
            ]
          },
          "metadata": {
            "tags": []
          }
        },
        {
          "output_type": "stream",
          "text": [
            "\n"
          ],
          "name": "stdout"
        }
      ]
    },
    {
      "cell_type": "code",
      "metadata": {
        "id": "HNe_-PHmB_2R"
      },
      "source": [
        "optimizer = torch.optim.Adam(model.parameters())\n",
        "criterion = nn.BCEWithLogitsLoss()\n",
        "callbacks = [\n",
        "    EarlyStoppingCallback(patience=8, metric = 'f1-score', minimize = False)\n",
        "]\n",
        "num_epochs = 100\n",
        "\n",
        "class CustomRunner(dl.Runner):\n",
        "    \n",
        "    def predict_batch(self, batch):\n",
        "        x, y = batch\n",
        "        return self.model(x.to(self.device))\n",
        "    \n",
        "    def _handle_batch(self, batch):\n",
        "        x, y = batch\n",
        "        output = self.model(x)\n",
        "        loss = self.state.criterion(output, y)\n",
        "\n",
        "        preds = torch.sigmoid(output).data > 0.5\n",
        "        preds = preds.to(torch.float32)\n",
        "\n",
        "        f1 = skyhacks_f1_score(preds.cpu().numpy(), y.cpu().numpy())\n",
        "        self.batch_metrics = {\n",
        "            \"loss\": loss,\n",
        "            \"f1-score\": f1\n",
        "        }\n",
        "        \n",
        "        if self.state.is_train_loader:\n",
        "            loss.backward()\n",
        "            self.state.optimizer.step()\n",
        "            self.state.optimizer.zero_grad()           \n"
      ],
      "execution_count": 21,
      "outputs": []
    },
    {
      "cell_type": "code",
      "metadata": {
        "id": "jauRyODeaLan",
        "outputId": "63fb84d7-43e4-402f-8758-c3b3b10880a3",
        "colab": {
          "base_uri": "https://localhost:8080/"
        }
      },
      "source": [
        "runner = CustomRunner()\n",
        "\n",
        "runner.train(\n",
        "    loaders=loaders,\n",
        "    model=model, \n",
        "    criterion=criterion, \n",
        "    optimizer=optimizer,\n",
        "    callbacks=callbacks,\n",
        "    num_epochs=num_epochs, \n",
        "    logdir=\"./logs\", \n",
        "    verbose=True,\n",
        "    main_metric='f1-score',\n",
        "    minimize_metric=False\n",
        ")"
      ],
      "execution_count": 22,
      "outputs": [
        {
          "output_type": "stream",
          "text": [
            "1/100 * Epoch (train):  45% 15/33 [06:33<07:25, 24.76s/it, f1-score=0.117, loss=0.356]"
          ],
          "name": "stdout"
        },
        {
          "output_type": "stream",
          "text": [
            "/usr/local/lib/python3.6/dist-packages/sklearn/metrics/_classification.py:1515: UndefinedMetricWarning:\n",
            "\n",
            "F-score is ill-defined and being set to 0.0 in labels with no true nor predicted samples. Use `zero_division` parameter to control this behavior.\n",
            "\n"
          ],
          "name": "stderr"
        },
        {
          "output_type": "stream",
          "text": [
            "1/100 * Epoch (train): 100% 33/33 [13:41<00:00, 24.90s/it, f1-score=0.110, loss=0.250]\n",
            "1/100 * Epoch (valid): 100% 3/3 [01:12<00:00, 24.04s/it, f1-score=0.159, loss=0.266]\n",
            "[2020-11-15 01:17:42,735] \n",
            "1/100 * Epoch 1 (train): f1-score=0.1220 | loss=0.3868\n",
            "1/100 * Epoch 1 (valid): f1-score=0.1625 | loss=0.2619\n",
            "2/100 * Epoch (train): 100% 33/33 [04:14<00:00,  7.73s/it, f1-score=0.163, loss=0.227]\n",
            "2/100 * Epoch (valid): 100% 3/3 [00:16<00:00,  5.45s/it, f1-score=0.219, loss=0.202]\n",
            "[2020-11-15 01:22:39,945] \n",
            "2/100 * Epoch 2 (train): f1-score=0.1492 | loss=0.2285\n",
            "2/100 * Epoch 2 (valid): f1-score=0.2295 | loss=0.1946\n",
            "3/100 * Epoch (train): 100% 33/33 [04:10<00:00,  7.59s/it, f1-score=0.199, loss=0.245]\n",
            "3/100 * Epoch (valid): 100% 3/3 [00:16<00:00,  5.40s/it, f1-score=0.255, loss=0.191]\n",
            "[2020-11-15 01:27:31,840] \n",
            "3/100 * Epoch 3 (train): f1-score=0.2051 | loss=0.2093\n",
            "3/100 * Epoch 3 (valid): f1-score=0.2741 | loss=0.1818\n",
            "4/100 * Epoch (train): 100% 33/33 [04:15<00:00,  7.74s/it, f1-score=0.282, loss=0.194]\n",
            "4/100 * Epoch (valid): 100% 3/3 [00:16<00:00,  5.49s/it, f1-score=0.295, loss=0.184]\n",
            "[2020-11-15 01:32:29,628] \n",
            "4/100 * Epoch 4 (train): f1-score=0.2587 | loss=0.1980\n",
            "4/100 * Epoch 4 (valid): f1-score=0.3020 | loss=0.1749\n",
            "5/100 * Epoch (train): 100% 33/33 [04:10<00:00,  7.59s/it, f1-score=0.326, loss=0.194]\n",
            "5/100 * Epoch (valid): 100% 3/3 [00:16<00:00,  5.41s/it, f1-score=0.309, loss=0.182]\n",
            "[2020-11-15 01:37:21,399] \n",
            "5/100 * Epoch 5 (train): f1-score=0.3063 | loss=0.1897\n",
            "5/100 * Epoch 5 (valid): f1-score=0.3381 | loss=0.1732\n",
            "6/100 * Epoch (train): 100% 33/33 [04:09<00:00,  7.56s/it, f1-score=0.321, loss=0.194]\n",
            "6/100 * Epoch (valid): 100% 3/3 [00:15<00:00,  5.29s/it, f1-score=0.343, loss=0.184]\n",
            "[2020-11-15 01:42:13,374] \n",
            "6/100 * Epoch 6 (train): f1-score=0.3380 | loss=0.1838\n",
            "6/100 * Epoch 6 (valid): f1-score=0.3611 | loss=0.1741\n",
            "7/100 * Epoch (train): 100% 33/33 [04:01<00:00,  7.33s/it, f1-score=0.387, loss=0.171]\n",
            "7/100 * Epoch (valid): 100% 3/3 [00:15<00:00,  5.21s/it, f1-score=0.354, loss=0.182]\n",
            "[2020-11-15 01:46:58,806] \n",
            "7/100 * Epoch 7 (train): f1-score=0.3732 | loss=0.1775\n",
            "7/100 * Epoch 7 (valid): f1-score=0.3744 | loss=0.1717\n",
            "8/100 * Epoch (train): 100% 33/33 [04:04<00:00,  7.42s/it, f1-score=0.415, loss=0.183]\n",
            "8/100 * Epoch (valid): 100% 3/3 [00:15<00:00,  5.17s/it, f1-score=0.405, loss=0.180]\n",
            "[2020-11-15 01:51:43,953] \n",
            "8/100 * Epoch 8 (train): f1-score=0.4020 | loss=0.1735\n",
            "8/100 * Epoch 8 (valid): f1-score=0.4168 | loss=0.1704\n",
            "9/100 * Epoch (train): 100% 33/33 [04:04<00:00,  7.40s/it, f1-score=0.406, loss=0.178]\n",
            "9/100 * Epoch (valid): 100% 3/3 [00:15<00:00,  5.18s/it, f1-score=0.477, loss=0.181]\n",
            "[2020-11-15 01:56:28,246] \n",
            "9/100 * Epoch 9 (train): f1-score=0.4264 | loss=0.1701\n",
            "9/100 * Epoch 9 (valid): f1-score=0.4529 | loss=0.1699\n",
            "10/100 * Epoch (train): 100% 33/33 [04:02<00:00,  7.36s/it, f1-score=0.423, loss=0.164]\n",
            "10/100 * Epoch (valid): 100% 3/3 [00:15<00:00,  5.12s/it, f1-score=0.417, loss=0.181]\n",
            "[2020-11-15 02:01:11,180] \n",
            "10/100 * Epoch 10 (train): f1-score=0.4455 | loss=0.1655\n",
            "10/100 * Epoch 10 (valid): f1-score=0.4251 | loss=0.1694\n",
            "11/100 * Epoch (train): 100% 33/33 [03:58<00:00,  7.23s/it, f1-score=0.397, loss=0.177]\n",
            "11/100 * Epoch (valid): 100% 3/3 [00:15<00:00,  5.11s/it, f1-score=0.431, loss=0.181]\n",
            "[2020-11-15 02:05:30,895] \n",
            "11/100 * Epoch 11 (train): f1-score=0.4655 | loss=0.1628\n",
            "11/100 * Epoch 11 (valid): f1-score=0.4461 | loss=0.1682\n",
            "12/100 * Epoch (train): 100% 33/33 [04:04<00:00,  7.42s/it, f1-score=0.445, loss=0.165]\n",
            "12/100 * Epoch (valid): 100% 3/3 [00:15<00:00,  5.33s/it, f1-score=0.444, loss=0.180]\n",
            "[2020-11-15 02:09:57,429] \n",
            "12/100 * Epoch 12 (train): f1-score=0.4808 | loss=0.1592\n",
            "12/100 * Epoch 12 (valid): f1-score=0.4465 | loss=0.1679\n",
            "13/100 * Epoch (train): 100% 33/33 [04:07<00:00,  7.51s/it, f1-score=0.497, loss=0.180]\n",
            "13/100 * Epoch (valid): 100% 3/3 [00:15<00:00,  5.32s/it, f1-score=0.453, loss=0.182]\n",
            "[2020-11-15 02:14:27,095] \n",
            "13/100 * Epoch 13 (train): f1-score=0.4992 | loss=0.1575\n",
            "13/100 * Epoch 13 (valid): f1-score=0.4619 | loss=0.1684\n",
            "14/100 * Epoch (train): 100% 33/33 [04:10<00:00,  7.58s/it, f1-score=0.459, loss=0.148]\n",
            "14/100 * Epoch (valid): 100% 3/3 [00:16<00:00,  5.35s/it, f1-score=0.459, loss=0.181]\n",
            "[2020-11-15 02:19:18,975] \n",
            "14/100 * Epoch 14 (train): f1-score=0.5099 | loss=0.1558\n",
            "14/100 * Epoch 14 (valid): f1-score=0.4719 | loss=0.1659\n",
            "15/100 * Epoch (train): 100% 33/33 [04:09<00:00,  7.56s/it, f1-score=0.530, loss=0.154]\n",
            "15/100 * Epoch (valid): 100% 3/3 [00:15<00:00,  5.31s/it, f1-score=0.446, loss=0.182]\n",
            "[2020-11-15 02:24:11,096] \n",
            "15/100 * Epoch 15 (train): f1-score=0.5267 | loss=0.1529\n",
            "15/100 * Epoch 15 (valid): f1-score=0.4704 | loss=0.1694\n",
            "16/100 * Epoch (train): 100% 33/33 [04:10<00:00,  7.58s/it, f1-score=0.488, loss=0.135]\n",
            "16/100 * Epoch (valid): 100% 3/3 [00:15<00:00,  5.23s/it, f1-score=0.425, loss=0.180]\n",
            "[2020-11-15 02:28:42,706] \n",
            "16/100 * Epoch 16 (train): f1-score=0.5355 | loss=0.1513\n",
            "16/100 * Epoch 16 (valid): f1-score=0.4836 | loss=0.1671\n",
            "17/100 * Epoch (train): 100% 33/33 [04:08<00:00,  7.53s/it, f1-score=0.454, loss=0.164]\n",
            "17/100 * Epoch (valid): 100% 3/3 [00:15<00:00,  5.27s/it, f1-score=0.423, loss=0.180]\n",
            "[2020-11-15 02:33:31,796] \n",
            "17/100 * Epoch 17 (train): f1-score=0.5490 | loss=0.1490\n",
            "17/100 * Epoch 17 (valid): f1-score=0.4598 | loss=0.1676\n",
            "18/100 * Epoch (train): 100% 33/33 [04:05<00:00,  7.43s/it, f1-score=0.531, loss=0.157]\n",
            "18/100 * Epoch (valid): 100% 3/3 [00:15<00:00,  5.28s/it, f1-score=0.428, loss=0.177]\n",
            "[2020-11-15 02:37:58,430] \n",
            "18/100 * Epoch 18 (train): f1-score=0.5557 | loss=0.1466\n",
            "18/100 * Epoch 18 (valid): f1-score=0.4609 | loss=0.1676\n",
            "19/100 * Epoch (train): 100% 33/33 [04:02<00:00,  7.34s/it, f1-score=0.615, loss=0.139]\n",
            "19/100 * Epoch (valid): 100% 3/3 [00:15<00:00,  5.19s/it, f1-score=0.426, loss=0.181]\n",
            "[2020-11-15 02:42:25,557] \n",
            "19/100 * Epoch 19 (train): f1-score=0.5668 | loss=0.1449\n",
            "19/100 * Epoch 19 (valid): f1-score=0.4658 | loss=0.1680\n",
            "20/100 * Epoch (train): 100% 33/33 [04:00<00:00,  7.28s/it, f1-score=0.494, loss=0.158]\n",
            "20/100 * Epoch (valid): 100% 3/3 [00:15<00:00,  5.18s/it, f1-score=0.428, loss=0.182]\n",
            "[2020-11-15 02:46:46,806] \n",
            "20/100 * Epoch 20 (train): f1-score=0.5707 | loss=0.1432\n",
            "20/100 * Epoch 20 (valid): f1-score=0.4868 | loss=0.1672\n",
            "21/100 * Epoch (train): 100% 33/33 [04:06<00:00,  7.47s/it, f1-score=0.554, loss=0.129]\n",
            "21/100 * Epoch (valid): 100% 3/3 [00:15<00:00,  5.20s/it, f1-score=0.437, loss=0.181]\n",
            "[2020-11-15 02:51:33,896] \n",
            "21/100 * Epoch 21 (train): f1-score=0.5860 | loss=0.1395\n",
            "21/100 * Epoch 21 (valid): f1-score=0.4811 | loss=0.1693\n",
            "22/100 * Epoch (train): 100% 33/33 [03:59<00:00,  7.26s/it, f1-score=0.533, loss=0.142]\n",
            "22/100 * Epoch (valid): 100% 3/3 [00:15<00:00,  5.15s/it, f1-score=0.438, loss=0.182]\n",
            "[2020-11-15 02:55:57,167] \n",
            "22/100 * Epoch 22 (train): f1-score=0.5920 | loss=0.1388\n",
            "22/100 * Epoch 22 (valid): f1-score=0.4825 | loss=0.1670\n",
            "23/100 * Epoch (train): 100% 33/33 [04:00<00:00,  7.28s/it, f1-score=0.631, loss=0.141]\n",
            "23/100 * Epoch (valid): 100% 3/3 [00:15<00:00,  5.16s/it, f1-score=0.405, loss=0.178]\n",
            "[2020-11-15 03:00:18,797] \n",
            "23/100 * Epoch 23 (train): f1-score=0.5890 | loss=0.1389\n",
            "23/100 * Epoch 23 (valid): f1-score=0.4794 | loss=0.1651\n",
            "24/100 * Epoch (train): 100% 33/33 [04:01<00:00,  7.30s/it, f1-score=0.597, loss=0.157]\n",
            "24/100 * Epoch (valid): 100% 3/3 [00:15<00:00,  5.29s/it, f1-score=0.428, loss=0.182]\n",
            "[2020-11-15 03:04:41,830] \n",
            "24/100 * Epoch 24 (train): f1-score=0.5956 | loss=0.1366\n",
            "24/100 * Epoch 24 (valid): f1-score=0.4818 | loss=0.1690\n",
            "25/100 * Epoch (train): 100% 33/33 [04:01<00:00,  7.31s/it, f1-score=0.542, loss=0.157]\n",
            "25/100 * Epoch (valid): 100% 3/3 [00:15<00:00,  5.20s/it, f1-score=0.437, loss=0.179]\n",
            "[2020-11-15 03:09:04,261] \n",
            "25/100 * Epoch 25 (train): f1-score=0.6105 | loss=0.1358\n",
            "25/100 * Epoch 25 (valid): f1-score=0.4779 | loss=0.1671\n",
            "26/100 * Epoch (train): 100% 33/33 [04:00<00:00,  7.30s/it, f1-score=0.584, loss=0.131]\n",
            "26/100 * Epoch (valid): 100% 3/3 [00:15<00:00,  5.20s/it, f1-score=0.434, loss=0.181]\n",
            "[2020-11-15 03:13:26,917] \n",
            "26/100 * Epoch 26 (train): f1-score=0.6086 | loss=0.1347\n",
            "26/100 * Epoch 26 (valid): f1-score=0.4854 | loss=0.1674\n",
            "27/100 * Epoch (train): 100% 33/33 [03:59<00:00,  7.24s/it, f1-score=0.620, loss=0.138]\n",
            "27/100 * Epoch (valid): 100% 3/3 [00:15<00:00,  5.17s/it, f1-score=0.439, loss=0.179]\n",
            "[2020-11-15 03:17:47,345] \n",
            "27/100 * Epoch 27 (train): f1-score=0.6236 | loss=0.1324\n",
            "27/100 * Epoch 27 (valid): f1-score=0.4790 | loss=0.1672\n",
            "28/100 * Epoch (train): 100% 33/33 [03:59<00:00,  7.26s/it, f1-score=0.605, loss=0.125]\n",
            "28/100 * Epoch (valid): 100% 3/3 [00:15<00:00,  5.20s/it, f1-score=0.410, loss=0.182]\n",
            "[2020-11-15 03:22:10,335] \n",
            "28/100 * Epoch 28 (train): f1-score=0.6377 | loss=0.1320\n",
            "28/100 * Epoch 28 (valid): f1-score=0.4789 | loss=0.1683\n",
            "Early stop at 28 epoch\n",
            "Top best models:\n",
            "logs/checkpoints/train.20.pth\t0.4868\n"
          ],
          "name": "stdout"
        }
      ]
    },
    {
      "cell_type": "code",
      "metadata": {
        "id": "eHqwv_sr1A6_",
        "outputId": "48968dc8-df5c-4f3b-9f58-b9a0e438343b",
        "colab": {
          "base_uri": "https://localhost:8080/",
          "height": 17
        }
      },
      "source": [
        "torch.save(runner.model, MODEL_PATH)\n",
        "files.download(MODEL_PATH)"
      ],
      "execution_count": 23,
      "outputs": [
        {
          "output_type": "display_data",
          "data": {
            "application/javascript": [
              "\n",
              "    async function download(id, filename, size) {\n",
              "      if (!google.colab.kernel.accessAllowed) {\n",
              "        return;\n",
              "      }\n",
              "      const div = document.createElement('div');\n",
              "      const label = document.createElement('label');\n",
              "      label.textContent = `Downloading \"${filename}\": `;\n",
              "      div.appendChild(label);\n",
              "      const progress = document.createElement('progress');\n",
              "      progress.max = size;\n",
              "      div.appendChild(progress);\n",
              "      document.body.appendChild(div);\n",
              "\n",
              "      const buffers = [];\n",
              "      let downloaded = 0;\n",
              "\n",
              "      const channel = await google.colab.kernel.comms.open(id);\n",
              "      // Send a message to notify the kernel that we're ready.\n",
              "      channel.send({})\n",
              "\n",
              "      for await (const message of channel.messages) {\n",
              "        // Send a message to notify the kernel that we're ready.\n",
              "        channel.send({})\n",
              "        if (message.buffers) {\n",
              "          for (const buffer of message.buffers) {\n",
              "            buffers.push(buffer);\n",
              "            downloaded += buffer.byteLength;\n",
              "            progress.value = downloaded;\n",
              "          }\n",
              "        }\n",
              "      }\n",
              "      const blob = new Blob(buffers, {type: 'application/binary'});\n",
              "      const a = document.createElement('a');\n",
              "      a.href = window.URL.createObjectURL(blob);\n",
              "      a.download = filename;\n",
              "      div.appendChild(a);\n",
              "      a.click();\n",
              "      div.remove();\n",
              "    }\n",
              "  "
            ],
            "text/plain": [
              "<IPython.core.display.Javascript object>"
            ]
          },
          "metadata": {
            "tags": []
          }
        },
        {
          "output_type": "display_data",
          "data": {
            "application/javascript": [
              "download(\"download_880e16fd-2b7d-4623-aee1-068c77bfd402\", \"model.pkt\", 359120080)"
            ],
            "text/plain": [
              "<IPython.core.display.Javascript object>"
            ]
          },
          "metadata": {
            "tags": []
          }
        }
      ]
    }
  ]
}